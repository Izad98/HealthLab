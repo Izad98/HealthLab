{
 "cells": [
  {
   "cell_type": "code",
   "execution_count": 1,
   "id": "4eaaa2de",
   "metadata": {},
   "outputs": [],
   "source": [
    "import pandas as pd\n",
    "import numpy as np\n",
    "from sklearn.model_selection import train_test_split\n",
    "from scipy import stats\n",
    "import seaborn as sns\n",
    "import matplotlib.pyplot as plt\n",
    "from pycorrcat.pycorrcat import plot_corr, corr_matrix\n",
    "from sklearn.linear_model import LogisticRegression #This is for logistic regression\n",
    "from sklearn.metrics import confusion_matrix, accuracy_score,classification_report,roc_curve,roc_auc_score #Metrics for classification\n",
    "from imblearn.over_sampling import SMOTE,ADASYN\n",
    "from sklearn.linear_model import RidgeClassifier\n",
    "from sklearn.ensemble import BaggingClassifier\n",
    "from sklearn.ensemble import RandomForestClassifier,ExtraTreesClassifier\n",
    "from sklearn.ensemble import AdaBoostClassifier,GradientBoostingClassifier\n",
    "from sklearn.neighbors import KNeighborsClassifier\n",
    "from sklearn import svm\n",
    "from sklearn.svm import SVC\n",
    "from sklearn.metrics import confusion_matrix,accuracy_score,classification_report,roc_curve,roc_auc_score\n",
    "from sklearn.discriminant_analysis import LinearDiscriminantAnalysis, QuadraticDiscriminantAnalysis #LDA,QDA\n",
    "from sklearn.naive_bayes import GaussianNB #Naive Bayes\n",
    "from sklearn.datasets import make_classification\n",
    "from imblearn.over_sampling import RandomOverSampler\n",
    "from imblearn.under_sampling import RandomUnderSampler\n",
    "from collections import Counter\n",
    "from sklearn.model_selection import GridSearchCV,RandomizedSearchCV\n",
    "from sklearn.model_selection import KFold\n",
    "import xgboost as xgb\n",
    "from sklearn.metrics import mean_squared_error\n",
    "from sklearn.model_selection import RepeatedStratifiedKFold\n",
    "from sklearn.model_selection import GridSearchCV\n",
    "from sklearn.linear_model import LogisticRegression\n",
    "from sklearn.preprocessing import LabelEncoder,OneHotEncoder,StandardScaler"
   ]
  },
  {
   "cell_type": "code",
   "execution_count": 2,
   "id": "b177db7d",
   "metadata": {},
   "outputs": [],
   "source": [
    "#import pip\n",
    "#pip.main([\"install\",\"xgboost\"])"
   ]
  },
  {
   "cell_type": "code",
   "execution_count": 3,
   "id": "e43226b2",
   "metadata": {},
   "outputs": [],
   "source": [
    "#import pip\n",
    "#pip.main([\"install\",\"pycorr\"])"
   ]
  },
  {
   "cell_type": "code",
   "execution_count": 4,
   "id": "d4957f39",
   "metadata": {},
   "outputs": [],
   "source": [
    "df=pd.read_csv(\"C:\\\\Users\\\\User\\\\Desktop\\\\Final Project\\\\healthcare-dataset-stroke-data.CSV\")"
   ]
  },
  {
   "cell_type": "code",
   "execution_count": 5,
   "id": "c28e9bad",
   "metadata": {
    "scrolled": true
   },
   "outputs": [
    {
     "data": {
      "text/html": [
       "<div>\n",
       "<style scoped>\n",
       "    .dataframe tbody tr th:only-of-type {\n",
       "        vertical-align: middle;\n",
       "    }\n",
       "\n",
       "    .dataframe tbody tr th {\n",
       "        vertical-align: top;\n",
       "    }\n",
       "\n",
       "    .dataframe thead th {\n",
       "        text-align: right;\n",
       "    }\n",
       "</style>\n",
       "<table border=\"1\" class=\"dataframe\">\n",
       "  <thead>\n",
       "    <tr style=\"text-align: right;\">\n",
       "      <th></th>\n",
       "      <th>id</th>\n",
       "      <th>gender</th>\n",
       "      <th>age</th>\n",
       "      <th>hypertension</th>\n",
       "      <th>heart_disease</th>\n",
       "      <th>ever_married</th>\n",
       "      <th>work_type</th>\n",
       "      <th>Residence_type</th>\n",
       "      <th>avg_glucose_level</th>\n",
       "      <th>bmi</th>\n",
       "      <th>smoking_status</th>\n",
       "      <th>stroke</th>\n",
       "    </tr>\n",
       "  </thead>\n",
       "  <tbody>\n",
       "    <tr>\n",
       "      <th>0</th>\n",
       "      <td>9046</td>\n",
       "      <td>Male</td>\n",
       "      <td>67.0</td>\n",
       "      <td>0</td>\n",
       "      <td>1</td>\n",
       "      <td>Yes</td>\n",
       "      <td>Private</td>\n",
       "      <td>Urban</td>\n",
       "      <td>228.69</td>\n",
       "      <td>36.6</td>\n",
       "      <td>formerly smoked</td>\n",
       "      <td>1</td>\n",
       "    </tr>\n",
       "    <tr>\n",
       "      <th>1</th>\n",
       "      <td>51676</td>\n",
       "      <td>Female</td>\n",
       "      <td>61.0</td>\n",
       "      <td>0</td>\n",
       "      <td>0</td>\n",
       "      <td>Yes</td>\n",
       "      <td>Self-employed</td>\n",
       "      <td>Rural</td>\n",
       "      <td>202.21</td>\n",
       "      <td>NaN</td>\n",
       "      <td>never smoked</td>\n",
       "      <td>1</td>\n",
       "    </tr>\n",
       "    <tr>\n",
       "      <th>2</th>\n",
       "      <td>31112</td>\n",
       "      <td>Male</td>\n",
       "      <td>80.0</td>\n",
       "      <td>0</td>\n",
       "      <td>1</td>\n",
       "      <td>Yes</td>\n",
       "      <td>Private</td>\n",
       "      <td>Rural</td>\n",
       "      <td>105.92</td>\n",
       "      <td>32.5</td>\n",
       "      <td>never smoked</td>\n",
       "      <td>1</td>\n",
       "    </tr>\n",
       "    <tr>\n",
       "      <th>3</th>\n",
       "      <td>60182</td>\n",
       "      <td>Female</td>\n",
       "      <td>49.0</td>\n",
       "      <td>0</td>\n",
       "      <td>0</td>\n",
       "      <td>Yes</td>\n",
       "      <td>Private</td>\n",
       "      <td>Urban</td>\n",
       "      <td>171.23</td>\n",
       "      <td>34.4</td>\n",
       "      <td>smokes</td>\n",
       "      <td>1</td>\n",
       "    </tr>\n",
       "    <tr>\n",
       "      <th>4</th>\n",
       "      <td>1665</td>\n",
       "      <td>Female</td>\n",
       "      <td>79.0</td>\n",
       "      <td>1</td>\n",
       "      <td>0</td>\n",
       "      <td>Yes</td>\n",
       "      <td>Self-employed</td>\n",
       "      <td>Rural</td>\n",
       "      <td>174.12</td>\n",
       "      <td>24.0</td>\n",
       "      <td>never smoked</td>\n",
       "      <td>1</td>\n",
       "    </tr>\n",
       "  </tbody>\n",
       "</table>\n",
       "</div>"
      ],
      "text/plain": [
       "      id  gender   age  hypertension  heart_disease ever_married  \\\n",
       "0   9046    Male  67.0             0              1          Yes   \n",
       "1  51676  Female  61.0             0              0          Yes   \n",
       "2  31112    Male  80.0             0              1          Yes   \n",
       "3  60182  Female  49.0             0              0          Yes   \n",
       "4   1665  Female  79.0             1              0          Yes   \n",
       "\n",
       "       work_type Residence_type  avg_glucose_level   bmi   smoking_status  \\\n",
       "0        Private          Urban             228.69  36.6  formerly smoked   \n",
       "1  Self-employed          Rural             202.21   NaN     never smoked   \n",
       "2        Private          Rural             105.92  32.5     never smoked   \n",
       "3        Private          Urban             171.23  34.4           smokes   \n",
       "4  Self-employed          Rural             174.12  24.0     never smoked   \n",
       "\n",
       "   stroke  \n",
       "0       1  \n",
       "1       1  \n",
       "2       1  \n",
       "3       1  \n",
       "4       1  "
      ]
     },
     "execution_count": 5,
     "metadata": {},
     "output_type": "execute_result"
    }
   ],
   "source": [
    "df.head()"
   ]
  },
  {
   "cell_type": "code",
   "execution_count": 6,
   "id": "c2bfc41a",
   "metadata": {
    "scrolled": true
   },
   "outputs": [
    {
     "data": {
      "text/html": [
       "<div>\n",
       "<style scoped>\n",
       "    .dataframe tbody tr th:only-of-type {\n",
       "        vertical-align: middle;\n",
       "    }\n",
       "\n",
       "    .dataframe tbody tr th {\n",
       "        vertical-align: top;\n",
       "    }\n",
       "\n",
       "    .dataframe thead th {\n",
       "        text-align: right;\n",
       "    }\n",
       "</style>\n",
       "<table border=\"1\" class=\"dataframe\">\n",
       "  <thead>\n",
       "    <tr style=\"text-align: right;\">\n",
       "      <th></th>\n",
       "      <th>gender</th>\n",
       "      <th>age</th>\n",
       "      <th>hypertension</th>\n",
       "      <th>heart_disease</th>\n",
       "      <th>ever_married</th>\n",
       "      <th>work_type</th>\n",
       "      <th>Residence_type</th>\n",
       "      <th>avg_glucose_level</th>\n",
       "      <th>bmi</th>\n",
       "      <th>smoking_status</th>\n",
       "      <th>stroke</th>\n",
       "    </tr>\n",
       "  </thead>\n",
       "  <tbody>\n",
       "    <tr>\n",
       "      <th>0</th>\n",
       "      <td>Male</td>\n",
       "      <td>67.0</td>\n",
       "      <td>0</td>\n",
       "      <td>1</td>\n",
       "      <td>Yes</td>\n",
       "      <td>Private</td>\n",
       "      <td>Urban</td>\n",
       "      <td>228.69</td>\n",
       "      <td>36.6</td>\n",
       "      <td>formerly smoked</td>\n",
       "      <td>1</td>\n",
       "    </tr>\n",
       "    <tr>\n",
       "      <th>1</th>\n",
       "      <td>Female</td>\n",
       "      <td>61.0</td>\n",
       "      <td>0</td>\n",
       "      <td>0</td>\n",
       "      <td>Yes</td>\n",
       "      <td>Self-employed</td>\n",
       "      <td>Rural</td>\n",
       "      <td>202.21</td>\n",
       "      <td>NaN</td>\n",
       "      <td>never smoked</td>\n",
       "      <td>1</td>\n",
       "    </tr>\n",
       "    <tr>\n",
       "      <th>2</th>\n",
       "      <td>Male</td>\n",
       "      <td>80.0</td>\n",
       "      <td>0</td>\n",
       "      <td>1</td>\n",
       "      <td>Yes</td>\n",
       "      <td>Private</td>\n",
       "      <td>Rural</td>\n",
       "      <td>105.92</td>\n",
       "      <td>32.5</td>\n",
       "      <td>never smoked</td>\n",
       "      <td>1</td>\n",
       "    </tr>\n",
       "    <tr>\n",
       "      <th>3</th>\n",
       "      <td>Female</td>\n",
       "      <td>49.0</td>\n",
       "      <td>0</td>\n",
       "      <td>0</td>\n",
       "      <td>Yes</td>\n",
       "      <td>Private</td>\n",
       "      <td>Urban</td>\n",
       "      <td>171.23</td>\n",
       "      <td>34.4</td>\n",
       "      <td>smokes</td>\n",
       "      <td>1</td>\n",
       "    </tr>\n",
       "    <tr>\n",
       "      <th>4</th>\n",
       "      <td>Female</td>\n",
       "      <td>79.0</td>\n",
       "      <td>1</td>\n",
       "      <td>0</td>\n",
       "      <td>Yes</td>\n",
       "      <td>Self-employed</td>\n",
       "      <td>Rural</td>\n",
       "      <td>174.12</td>\n",
       "      <td>24.0</td>\n",
       "      <td>never smoked</td>\n",
       "      <td>1</td>\n",
       "    </tr>\n",
       "  </tbody>\n",
       "</table>\n",
       "</div>"
      ],
      "text/plain": [
       "   gender   age  hypertension  heart_disease ever_married      work_type  \\\n",
       "0    Male  67.0             0              1          Yes        Private   \n",
       "1  Female  61.0             0              0          Yes  Self-employed   \n",
       "2    Male  80.0             0              1          Yes        Private   \n",
       "3  Female  49.0             0              0          Yes        Private   \n",
       "4  Female  79.0             1              0          Yes  Self-employed   \n",
       "\n",
       "  Residence_type  avg_glucose_level   bmi   smoking_status  stroke  \n",
       "0          Urban             228.69  36.6  formerly smoked       1  \n",
       "1          Rural             202.21   NaN     never smoked       1  \n",
       "2          Rural             105.92  32.5     never smoked       1  \n",
       "3          Urban             171.23  34.4           smokes       1  \n",
       "4          Rural             174.12  24.0     never smoked       1  "
      ]
     },
     "execution_count": 6,
     "metadata": {},
     "output_type": "execute_result"
    }
   ],
   "source": [
    "df_new=df.drop(\"id\",axis=1) # Since enrolle_id is meaningless feature, it is removed from the dataframe \n",
    "df_new.head()"
   ]
  },
  {
   "cell_type": "code",
   "execution_count": 7,
   "id": "c0a95c38",
   "metadata": {},
   "outputs": [
    {
     "data": {
      "text/plain": [
       "0"
      ]
     },
     "execution_count": 7,
     "metadata": {},
     "output_type": "execute_result"
    }
   ],
   "source": [
    "df_new.duplicated().sum() # Are there any duplicated rows? "
   ]
  },
  {
   "cell_type": "code",
   "execution_count": 8,
   "id": "afdd86d4",
   "metadata": {},
   "outputs": [
    {
     "data": {
      "text/plain": [
       "5110"
      ]
     },
     "execution_count": 8,
     "metadata": {},
     "output_type": "execute_result"
    }
   ],
   "source": [
    "len(df_new)"
   ]
  },
  {
   "cell_type": "code",
   "execution_count": 9,
   "id": "f275e5f7",
   "metadata": {},
   "outputs": [],
   "source": [
    "x=df_new.iloc[:,:10] #upto the 12 without 12\n",
    "y=df_new.iloc[:,10]"
   ]
  },
  {
   "cell_type": "code",
   "execution_count": 10,
   "id": "11374cce",
   "metadata": {},
   "outputs": [
    {
     "data": {
      "text/html": [
       "<div>\n",
       "<style scoped>\n",
       "    .dataframe tbody tr th:only-of-type {\n",
       "        vertical-align: middle;\n",
       "    }\n",
       "\n",
       "    .dataframe tbody tr th {\n",
       "        vertical-align: top;\n",
       "    }\n",
       "\n",
       "    .dataframe thead th {\n",
       "        text-align: right;\n",
       "    }\n",
       "</style>\n",
       "<table border=\"1\" class=\"dataframe\">\n",
       "  <thead>\n",
       "    <tr style=\"text-align: right;\">\n",
       "      <th></th>\n",
       "      <th>gender</th>\n",
       "      <th>age</th>\n",
       "      <th>hypertension</th>\n",
       "      <th>heart_disease</th>\n",
       "      <th>ever_married</th>\n",
       "      <th>work_type</th>\n",
       "      <th>Residence_type</th>\n",
       "      <th>avg_glucose_level</th>\n",
       "      <th>bmi</th>\n",
       "      <th>smoking_status</th>\n",
       "    </tr>\n",
       "  </thead>\n",
       "  <tbody>\n",
       "    <tr>\n",
       "      <th>0</th>\n",
       "      <td>Male</td>\n",
       "      <td>67.0</td>\n",
       "      <td>0</td>\n",
       "      <td>1</td>\n",
       "      <td>Yes</td>\n",
       "      <td>Private</td>\n",
       "      <td>Urban</td>\n",
       "      <td>228.69</td>\n",
       "      <td>36.6</td>\n",
       "      <td>formerly smoked</td>\n",
       "    </tr>\n",
       "    <tr>\n",
       "      <th>1</th>\n",
       "      <td>Female</td>\n",
       "      <td>61.0</td>\n",
       "      <td>0</td>\n",
       "      <td>0</td>\n",
       "      <td>Yes</td>\n",
       "      <td>Self-employed</td>\n",
       "      <td>Rural</td>\n",
       "      <td>202.21</td>\n",
       "      <td>NaN</td>\n",
       "      <td>never smoked</td>\n",
       "    </tr>\n",
       "    <tr>\n",
       "      <th>2</th>\n",
       "      <td>Male</td>\n",
       "      <td>80.0</td>\n",
       "      <td>0</td>\n",
       "      <td>1</td>\n",
       "      <td>Yes</td>\n",
       "      <td>Private</td>\n",
       "      <td>Rural</td>\n",
       "      <td>105.92</td>\n",
       "      <td>32.5</td>\n",
       "      <td>never smoked</td>\n",
       "    </tr>\n",
       "    <tr>\n",
       "      <th>3</th>\n",
       "      <td>Female</td>\n",
       "      <td>49.0</td>\n",
       "      <td>0</td>\n",
       "      <td>0</td>\n",
       "      <td>Yes</td>\n",
       "      <td>Private</td>\n",
       "      <td>Urban</td>\n",
       "      <td>171.23</td>\n",
       "      <td>34.4</td>\n",
       "      <td>smokes</td>\n",
       "    </tr>\n",
       "    <tr>\n",
       "      <th>4</th>\n",
       "      <td>Female</td>\n",
       "      <td>79.0</td>\n",
       "      <td>1</td>\n",
       "      <td>0</td>\n",
       "      <td>Yes</td>\n",
       "      <td>Self-employed</td>\n",
       "      <td>Rural</td>\n",
       "      <td>174.12</td>\n",
       "      <td>24.0</td>\n",
       "      <td>never smoked</td>\n",
       "    </tr>\n",
       "  </tbody>\n",
       "</table>\n",
       "</div>"
      ],
      "text/plain": [
       "   gender   age  hypertension  heart_disease ever_married      work_type  \\\n",
       "0    Male  67.0             0              1          Yes        Private   \n",
       "1  Female  61.0             0              0          Yes  Self-employed   \n",
       "2    Male  80.0             0              1          Yes        Private   \n",
       "3  Female  49.0             0              0          Yes        Private   \n",
       "4  Female  79.0             1              0          Yes  Self-employed   \n",
       "\n",
       "  Residence_type  avg_glucose_level   bmi   smoking_status  \n",
       "0          Urban             228.69  36.6  formerly smoked  \n",
       "1          Rural             202.21   NaN     never smoked  \n",
       "2          Rural             105.92  32.5     never smoked  \n",
       "3          Urban             171.23  34.4           smokes  \n",
       "4          Rural             174.12  24.0     never smoked  "
      ]
     },
     "execution_count": 10,
     "metadata": {},
     "output_type": "execute_result"
    }
   ],
   "source": [
    "x.head()"
   ]
  },
  {
   "cell_type": "code",
   "execution_count": 11,
   "id": "94273ae2",
   "metadata": {},
   "outputs": [
    {
     "data": {
      "text/plain": [
       "0    1\n",
       "1    1\n",
       "2    1\n",
       "3    1\n",
       "4    1\n",
       "Name: stroke, dtype: int64"
      ]
     },
     "execution_count": 11,
     "metadata": {},
     "output_type": "execute_result"
    }
   ],
   "source": [
    "y.head()"
   ]
  },
  {
   "cell_type": "code",
   "execution_count": 12,
   "id": "1899d9a2",
   "metadata": {},
   "outputs": [],
   "source": [
    "x_train,x_test,y_train,y_test=train_test_split(x,y,test_size=0.2,random_state=0)"
   ]
  },
  {
   "cell_type": "code",
   "execution_count": 13,
   "id": "1e0ff8b2",
   "metadata": {},
   "outputs": [
    {
     "data": {
      "text/html": [
       "<div>\n",
       "<style scoped>\n",
       "    .dataframe tbody tr th:only-of-type {\n",
       "        vertical-align: middle;\n",
       "    }\n",
       "\n",
       "    .dataframe tbody tr th {\n",
       "        vertical-align: top;\n",
       "    }\n",
       "\n",
       "    .dataframe thead th {\n",
       "        text-align: right;\n",
       "    }\n",
       "</style>\n",
       "<table border=\"1\" class=\"dataframe\">\n",
       "  <thead>\n",
       "    <tr style=\"text-align: right;\">\n",
       "      <th></th>\n",
       "      <th>gender</th>\n",
       "      <th>age</th>\n",
       "      <th>hypertension</th>\n",
       "      <th>heart_disease</th>\n",
       "      <th>ever_married</th>\n",
       "      <th>work_type</th>\n",
       "      <th>Residence_type</th>\n",
       "      <th>avg_glucose_level</th>\n",
       "      <th>bmi</th>\n",
       "      <th>smoking_status</th>\n",
       "    </tr>\n",
       "  </thead>\n",
       "  <tbody>\n",
       "    <tr>\n",
       "      <th>3029</th>\n",
       "      <td>Female</td>\n",
       "      <td>36.0</td>\n",
       "      <td>0</td>\n",
       "      <td>0</td>\n",
       "      <td>Yes</td>\n",
       "      <td>Private</td>\n",
       "      <td>Rural</td>\n",
       "      <td>67.29</td>\n",
       "      <td>36.7</td>\n",
       "      <td>formerly smoked</td>\n",
       "    </tr>\n",
       "    <tr>\n",
       "      <th>2277</th>\n",
       "      <td>Female</td>\n",
       "      <td>34.0</td>\n",
       "      <td>0</td>\n",
       "      <td>0</td>\n",
       "      <td>Yes</td>\n",
       "      <td>Private</td>\n",
       "      <td>Rural</td>\n",
       "      <td>83.53</td>\n",
       "      <td>48.5</td>\n",
       "      <td>formerly smoked</td>\n",
       "    </tr>\n",
       "    <tr>\n",
       "      <th>3002</th>\n",
       "      <td>Male</td>\n",
       "      <td>60.0</td>\n",
       "      <td>0</td>\n",
       "      <td>0</td>\n",
       "      <td>Yes</td>\n",
       "      <td>Private</td>\n",
       "      <td>Rural</td>\n",
       "      <td>65.16</td>\n",
       "      <td>30.8</td>\n",
       "      <td>never smoked</td>\n",
       "    </tr>\n",
       "    <tr>\n",
       "      <th>246</th>\n",
       "      <td>Female</td>\n",
       "      <td>75.0</td>\n",
       "      <td>0</td>\n",
       "      <td>0</td>\n",
       "      <td>Yes</td>\n",
       "      <td>Self-employed</td>\n",
       "      <td>Rural</td>\n",
       "      <td>78.80</td>\n",
       "      <td>29.3</td>\n",
       "      <td>formerly smoked</td>\n",
       "    </tr>\n",
       "    <tr>\n",
       "      <th>2825</th>\n",
       "      <td>Male</td>\n",
       "      <td>76.0</td>\n",
       "      <td>0</td>\n",
       "      <td>0</td>\n",
       "      <td>Yes</td>\n",
       "      <td>Private</td>\n",
       "      <td>Urban</td>\n",
       "      <td>58.65</td>\n",
       "      <td>25.6</td>\n",
       "      <td>smokes</td>\n",
       "    </tr>\n",
       "  </tbody>\n",
       "</table>\n",
       "</div>"
      ],
      "text/plain": [
       "      gender   age  hypertension  heart_disease ever_married      work_type  \\\n",
       "3029  Female  36.0             0              0          Yes        Private   \n",
       "2277  Female  34.0             0              0          Yes        Private   \n",
       "3002    Male  60.0             0              0          Yes        Private   \n",
       "246   Female  75.0             0              0          Yes  Self-employed   \n",
       "2825    Male  76.0             0              0          Yes        Private   \n",
       "\n",
       "     Residence_type  avg_glucose_level   bmi   smoking_status  \n",
       "3029          Rural              67.29  36.7  formerly smoked  \n",
       "2277          Rural              83.53  48.5  formerly smoked  \n",
       "3002          Rural              65.16  30.8     never smoked  \n",
       "246           Rural              78.80  29.3  formerly smoked  \n",
       "2825          Urban              58.65  25.6           smokes  "
      ]
     },
     "execution_count": 13,
     "metadata": {},
     "output_type": "execute_result"
    }
   ],
   "source": [
    "x_train.head()"
   ]
  },
  {
   "cell_type": "markdown",
   "id": "c374e15b",
   "metadata": {},
   "source": [
    "\n",
    "# Data Cleaning\n"
   ]
  },
  {
   "cell_type": "code",
   "execution_count": 14,
   "id": "e1168ce6",
   "metadata": {},
   "outputs": [
    {
     "data": {
      "text/plain": [
       "gender               False\n",
       "age                  False\n",
       "hypertension         False\n",
       "heart_disease        False\n",
       "ever_married         False\n",
       "work_type            False\n",
       "Residence_type       False\n",
       "avg_glucose_level    False\n",
       "bmi                   True\n",
       "smoking_status       False\n",
       "dtype: bool"
      ]
     },
     "execution_count": 14,
     "metadata": {},
     "output_type": "execute_result"
    }
   ],
   "source": [
    "x_train.isna().any() # Are there any missing values in each coloumn?"
   ]
  },
  {
   "cell_type": "code",
   "execution_count": 15,
   "id": "2f4ff0ae",
   "metadata": {},
   "outputs": [
    {
     "data": {
      "text/plain": [
       "False"
      ]
     },
     "execution_count": 15,
     "metadata": {},
     "output_type": "execute_result"
    }
   ],
   "source": [
    "y_train.isna().any()"
   ]
  },
  {
   "cell_type": "code",
   "execution_count": 16,
   "id": "2c0f97a9",
   "metadata": {
    "scrolled": true
   },
   "outputs": [
    {
     "data": {
      "text/plain": [
       "gender                 0\n",
       "age                    0\n",
       "hypertension           0\n",
       "heart_disease          0\n",
       "ever_married           0\n",
       "work_type              0\n",
       "Residence_type         0\n",
       "avg_glucose_level      0\n",
       "bmi                  160\n",
       "smoking_status         0\n",
       "dtype: int64"
      ]
     },
     "execution_count": 16,
     "metadata": {},
     "output_type": "execute_result"
    }
   ],
   "source": [
    "x_train.isna().sum() # No of missing values in each coloumn"
   ]
  },
  {
   "cell_type": "code",
   "execution_count": 17,
   "id": "c8c6fa57",
   "metadata": {},
   "outputs": [
    {
     "data": {
      "text/plain": [
       "gender               False\n",
       "age                  False\n",
       "hypertension         False\n",
       "heart_disease        False\n",
       "ever_married         False\n",
       "work_type            False\n",
       "Residence_type       False\n",
       "avg_glucose_level    False\n",
       "bmi                   True\n",
       "smoking_status       False\n",
       "dtype: bool"
      ]
     },
     "execution_count": 17,
     "metadata": {},
     "output_type": "execute_result"
    }
   ],
   "source": [
    "x_test.isna().any() "
   ]
  },
  {
   "cell_type": "code",
   "execution_count": 18,
   "id": "0a70d789",
   "metadata": {},
   "outputs": [
    {
     "data": {
      "text/plain": [
       "False"
      ]
     },
     "execution_count": 18,
     "metadata": {},
     "output_type": "execute_result"
    }
   ],
   "source": [
    "y_test.isna().any()"
   ]
  },
  {
   "cell_type": "markdown",
   "id": "99a5427c",
   "metadata": {},
   "source": [
    "## train to category"
   ]
  },
  {
   "cell_type": "code",
   "execution_count": 19,
   "id": "1e6e6e0a",
   "metadata": {},
   "outputs": [
    {
     "data": {
      "text/plain": [
       "gender                object\n",
       "age                  float64\n",
       "hypertension           int64\n",
       "heart_disease          int64\n",
       "ever_married          object\n",
       "work_type             object\n",
       "Residence_type        object\n",
       "avg_glucose_level    float64\n",
       "bmi                  float64\n",
       "smoking_status        object\n",
       "dtype: object"
      ]
     },
     "execution_count": 19,
     "metadata": {},
     "output_type": "execute_result"
    }
   ],
   "source": [
    "x_train.dtypes"
   ]
  },
  {
   "cell_type": "code",
   "execution_count": 20,
   "id": "b1713bfe",
   "metadata": {},
   "outputs": [
    {
     "data": {
      "text/plain": [
       "dtype('int64')"
      ]
     },
     "execution_count": 20,
     "metadata": {},
     "output_type": "execute_result"
    }
   ],
   "source": [
    "y_train.dtypes"
   ]
  },
  {
   "cell_type": "code",
   "execution_count": 21,
   "id": "2182b29e",
   "metadata": {},
   "outputs": [],
   "source": [
    "x_train = x_train.astype({\"gender\":'category',\"hypertension\":'category',\"heart_disease\":'category',\"ever_married\":'category',\"work_type\":'category',\"Residence_type\":'category',\"smoking_status\":'category'})"
   ]
  },
  {
   "cell_type": "code",
   "execution_count": 22,
   "id": "1c149f8e",
   "metadata": {},
   "outputs": [
    {
     "data": {
      "text/plain": [
       "gender               category\n",
       "age                   float64\n",
       "hypertension         category\n",
       "heart_disease        category\n",
       "ever_married         category\n",
       "work_type            category\n",
       "Residence_type       category\n",
       "avg_glucose_level     float64\n",
       "bmi                   float64\n",
       "smoking_status       category\n",
       "dtype: object"
      ]
     },
     "execution_count": 22,
     "metadata": {},
     "output_type": "execute_result"
    }
   ],
   "source": [
    "x_train.dtypes"
   ]
  },
  {
   "cell_type": "code",
   "execution_count": 23,
   "id": "3d6c77a1",
   "metadata": {},
   "outputs": [],
   "source": [
    "y_train = y_train.astype({\"stroke\":'category'})"
   ]
  },
  {
   "cell_type": "code",
   "execution_count": 24,
   "id": "acc43dc8",
   "metadata": {},
   "outputs": [
    {
     "data": {
      "text/plain": [
       "CategoricalDtype(categories=[0, 1], ordered=False)"
      ]
     },
     "execution_count": 24,
     "metadata": {},
     "output_type": "execute_result"
    }
   ],
   "source": [
    "y_train.dtypes"
   ]
  },
  {
   "cell_type": "markdown",
   "id": "78295ea2",
   "metadata": {},
   "source": [
    "## test to category"
   ]
  },
  {
   "cell_type": "code",
   "execution_count": 25,
   "id": "e696d368",
   "metadata": {},
   "outputs": [
    {
     "data": {
      "text/plain": [
       "gender                object\n",
       "age                  float64\n",
       "hypertension           int64\n",
       "heart_disease          int64\n",
       "ever_married          object\n",
       "work_type             object\n",
       "Residence_type        object\n",
       "avg_glucose_level    float64\n",
       "bmi                  float64\n",
       "smoking_status        object\n",
       "dtype: object"
      ]
     },
     "execution_count": 25,
     "metadata": {},
     "output_type": "execute_result"
    }
   ],
   "source": [
    "x_test.dtypes"
   ]
  },
  {
   "cell_type": "code",
   "execution_count": 26,
   "id": "b28a759d",
   "metadata": {},
   "outputs": [
    {
     "data": {
      "text/plain": [
       "dtype('int64')"
      ]
     },
     "execution_count": 26,
     "metadata": {},
     "output_type": "execute_result"
    }
   ],
   "source": [
    "y_test.dtypes"
   ]
  },
  {
   "cell_type": "code",
   "execution_count": 27,
   "id": "d5be5882",
   "metadata": {},
   "outputs": [],
   "source": [
    "x_test = x_test.astype({\"gender\":'category',\"hypertension\":'category',\"heart_disease\":'category',\"ever_married\":'category',\"work_type\":'category',\"Residence_type\":'category',\"smoking_status\":'category'})"
   ]
  },
  {
   "cell_type": "code",
   "execution_count": 28,
   "id": "955e2360",
   "metadata": {},
   "outputs": [
    {
     "data": {
      "text/plain": [
       "gender               category\n",
       "age                   float64\n",
       "hypertension         category\n",
       "heart_disease        category\n",
       "ever_married         category\n",
       "work_type            category\n",
       "Residence_type       category\n",
       "avg_glucose_level     float64\n",
       "bmi                   float64\n",
       "smoking_status       category\n",
       "dtype: object"
      ]
     },
     "execution_count": 28,
     "metadata": {},
     "output_type": "execute_result"
    }
   ],
   "source": [
    "x_test.dtypes"
   ]
  },
  {
   "cell_type": "code",
   "execution_count": 29,
   "id": "9a953313",
   "metadata": {},
   "outputs": [],
   "source": [
    "y_test = y_test.astype({\"stroke\":'category'})"
   ]
  },
  {
   "cell_type": "code",
   "execution_count": 30,
   "id": "0fc97cf7",
   "metadata": {},
   "outputs": [
    {
     "data": {
      "text/plain": [
       "CategoricalDtype(categories=[0, 1], ordered=False)"
      ]
     },
     "execution_count": 30,
     "metadata": {},
     "output_type": "execute_result"
    }
   ],
   "source": [
    "y_test.dtypes"
   ]
  },
  {
   "cell_type": "code",
   "execution_count": null,
   "id": "c7fb9490",
   "metadata": {},
   "outputs": [],
   "source": []
  },
  {
   "cell_type": "code",
   "execution_count": 31,
   "id": "99b0fe79",
   "metadata": {},
   "outputs": [
    {
     "data": {
      "text/plain": [
       "age                 -0.151072\n",
       "avg_glucose_level    1.556805\n",
       "bmi                  1.140338\n",
       "dtype: float64"
      ]
     },
     "execution_count": 31,
     "metadata": {},
     "output_type": "execute_result"
    }
   ],
   "source": [
    "x_train.skew(axis = 0, skipna = True)"
   ]
  },
  {
   "cell_type": "code",
   "execution_count": 32,
   "id": "88fa66cc",
   "metadata": {},
   "outputs": [],
   "source": [
    "# Since the skewness of \"bmi\" is greater than 0, we use \"median\" for the imputation "
   ]
  },
  {
   "cell_type": "code",
   "execution_count": 33,
   "id": "24114e24",
   "metadata": {},
   "outputs": [
    {
     "data": {
      "text/plain": [
       "28.0"
      ]
     },
     "execution_count": 33,
     "metadata": {},
     "output_type": "execute_result"
    }
   ],
   "source": [
    "x_train['bmi'].median()"
   ]
  },
  {
   "cell_type": "code",
   "execution_count": 34,
   "id": "3cd027bc",
   "metadata": {},
   "outputs": [],
   "source": [
    "x_train['bmi'].fillna(28.0,inplace=True)"
   ]
  },
  {
   "cell_type": "code",
   "execution_count": 35,
   "id": "d47418c5",
   "metadata": {},
   "outputs": [],
   "source": [
    "x_test['bmi'].fillna(28.0,inplace=True)"
   ]
  },
  {
   "cell_type": "code",
   "execution_count": null,
   "id": "f4efa056",
   "metadata": {},
   "outputs": [],
   "source": []
  },
  {
   "cell_type": "code",
   "execution_count": 36,
   "id": "79dab1cc",
   "metadata": {},
   "outputs": [
    {
     "data": {
      "text/plain": [
       "gender               False\n",
       "age                  False\n",
       "hypertension         False\n",
       "heart_disease        False\n",
       "ever_married         False\n",
       "work_type            False\n",
       "Residence_type       False\n",
       "avg_glucose_level    False\n",
       "bmi                  False\n",
       "smoking_status       False\n",
       "dtype: bool"
      ]
     },
     "execution_count": 36,
     "metadata": {},
     "output_type": "execute_result"
    }
   ],
   "source": [
    "x_train.isna().any()"
   ]
  },
  {
   "cell_type": "code",
   "execution_count": 37,
   "id": "4ba82589",
   "metadata": {},
   "outputs": [
    {
     "data": {
      "text/plain": [
       "gender               False\n",
       "age                  False\n",
       "hypertension         False\n",
       "heart_disease        False\n",
       "ever_married         False\n",
       "work_type            False\n",
       "Residence_type       False\n",
       "avg_glucose_level    False\n",
       "bmi                  False\n",
       "smoking_status       False\n",
       "dtype: bool"
      ]
     },
     "execution_count": 37,
     "metadata": {},
     "output_type": "execute_result"
    }
   ],
   "source": [
    "x_test.isna().any()"
   ]
  },
  {
   "cell_type": "code",
   "execution_count": null,
   "id": "2167d646",
   "metadata": {},
   "outputs": [],
   "source": []
  },
  {
   "cell_type": "code",
   "execution_count": 38,
   "id": "d41625db",
   "metadata": {},
   "outputs": [],
   "source": [
    "trainDataSet = pd.concat([x_train, y_train], axis=1)"
   ]
  },
  {
   "cell_type": "code",
   "execution_count": 39,
   "id": "3a6080e5",
   "metadata": {
    "scrolled": true
   },
   "outputs": [
    {
     "data": {
      "text/html": [
       "<div>\n",
       "<style scoped>\n",
       "    .dataframe tbody tr th:only-of-type {\n",
       "        vertical-align: middle;\n",
       "    }\n",
       "\n",
       "    .dataframe tbody tr th {\n",
       "        vertical-align: top;\n",
       "    }\n",
       "\n",
       "    .dataframe thead th {\n",
       "        text-align: right;\n",
       "    }\n",
       "</style>\n",
       "<table border=\"1\" class=\"dataframe\">\n",
       "  <thead>\n",
       "    <tr style=\"text-align: right;\">\n",
       "      <th></th>\n",
       "      <th>gender</th>\n",
       "      <th>age</th>\n",
       "      <th>hypertension</th>\n",
       "      <th>heart_disease</th>\n",
       "      <th>ever_married</th>\n",
       "      <th>work_type</th>\n",
       "      <th>Residence_type</th>\n",
       "      <th>avg_glucose_level</th>\n",
       "      <th>bmi</th>\n",
       "      <th>smoking_status</th>\n",
       "      <th>stroke</th>\n",
       "    </tr>\n",
       "  </thead>\n",
       "  <tbody>\n",
       "    <tr>\n",
       "      <th>3029</th>\n",
       "      <td>Female</td>\n",
       "      <td>36.0</td>\n",
       "      <td>0</td>\n",
       "      <td>0</td>\n",
       "      <td>Yes</td>\n",
       "      <td>Private</td>\n",
       "      <td>Rural</td>\n",
       "      <td>67.29</td>\n",
       "      <td>36.7</td>\n",
       "      <td>formerly smoked</td>\n",
       "      <td>0</td>\n",
       "    </tr>\n",
       "    <tr>\n",
       "      <th>2277</th>\n",
       "      <td>Female</td>\n",
       "      <td>34.0</td>\n",
       "      <td>0</td>\n",
       "      <td>0</td>\n",
       "      <td>Yes</td>\n",
       "      <td>Private</td>\n",
       "      <td>Rural</td>\n",
       "      <td>83.53</td>\n",
       "      <td>48.5</td>\n",
       "      <td>formerly smoked</td>\n",
       "      <td>0</td>\n",
       "    </tr>\n",
       "    <tr>\n",
       "      <th>3002</th>\n",
       "      <td>Male</td>\n",
       "      <td>60.0</td>\n",
       "      <td>0</td>\n",
       "      <td>0</td>\n",
       "      <td>Yes</td>\n",
       "      <td>Private</td>\n",
       "      <td>Rural</td>\n",
       "      <td>65.16</td>\n",
       "      <td>30.8</td>\n",
       "      <td>never smoked</td>\n",
       "      <td>0</td>\n",
       "    </tr>\n",
       "    <tr>\n",
       "      <th>246</th>\n",
       "      <td>Female</td>\n",
       "      <td>75.0</td>\n",
       "      <td>0</td>\n",
       "      <td>0</td>\n",
       "      <td>Yes</td>\n",
       "      <td>Self-employed</td>\n",
       "      <td>Rural</td>\n",
       "      <td>78.80</td>\n",
       "      <td>29.3</td>\n",
       "      <td>formerly smoked</td>\n",
       "      <td>1</td>\n",
       "    </tr>\n",
       "    <tr>\n",
       "      <th>2825</th>\n",
       "      <td>Male</td>\n",
       "      <td>76.0</td>\n",
       "      <td>0</td>\n",
       "      <td>0</td>\n",
       "      <td>Yes</td>\n",
       "      <td>Private</td>\n",
       "      <td>Urban</td>\n",
       "      <td>58.65</td>\n",
       "      <td>25.6</td>\n",
       "      <td>smokes</td>\n",
       "      <td>0</td>\n",
       "    </tr>\n",
       "  </tbody>\n",
       "</table>\n",
       "</div>"
      ],
      "text/plain": [
       "      gender   age hypertension heart_disease ever_married      work_type  \\\n",
       "3029  Female  36.0            0             0          Yes        Private   \n",
       "2277  Female  34.0            0             0          Yes        Private   \n",
       "3002    Male  60.0            0             0          Yes        Private   \n",
       "246   Female  75.0            0             0          Yes  Self-employed   \n",
       "2825    Male  76.0            0             0          Yes        Private   \n",
       "\n",
       "     Residence_type  avg_glucose_level   bmi   smoking_status stroke  \n",
       "3029          Rural              67.29  36.7  formerly smoked      0  \n",
       "2277          Rural              83.53  48.5  formerly smoked      0  \n",
       "3002          Rural              65.16  30.8     never smoked      0  \n",
       "246           Rural              78.80  29.3  formerly smoked      1  \n",
       "2825          Urban              58.65  25.6           smokes      0  "
      ]
     },
     "execution_count": 39,
     "metadata": {},
     "output_type": "execute_result"
    }
   ],
   "source": [
    "trainDataSet.head()"
   ]
  },
  {
   "cell_type": "code",
   "execution_count": 40,
   "id": "111b680c",
   "metadata": {},
   "outputs": [],
   "source": [
    "testDataSet = pd.concat([x_test, y_test], axis=1)"
   ]
  },
  {
   "cell_type": "code",
   "execution_count": 41,
   "id": "94ab7436",
   "metadata": {},
   "outputs": [
    {
     "data": {
      "text/html": [
       "<div>\n",
       "<style scoped>\n",
       "    .dataframe tbody tr th:only-of-type {\n",
       "        vertical-align: middle;\n",
       "    }\n",
       "\n",
       "    .dataframe tbody tr th {\n",
       "        vertical-align: top;\n",
       "    }\n",
       "\n",
       "    .dataframe thead th {\n",
       "        text-align: right;\n",
       "    }\n",
       "</style>\n",
       "<table border=\"1\" class=\"dataframe\">\n",
       "  <thead>\n",
       "    <tr style=\"text-align: right;\">\n",
       "      <th></th>\n",
       "      <th>gender</th>\n",
       "      <th>age</th>\n",
       "      <th>hypertension</th>\n",
       "      <th>heart_disease</th>\n",
       "      <th>ever_married</th>\n",
       "      <th>work_type</th>\n",
       "      <th>Residence_type</th>\n",
       "      <th>avg_glucose_level</th>\n",
       "      <th>bmi</th>\n",
       "      <th>smoking_status</th>\n",
       "      <th>stroke</th>\n",
       "    </tr>\n",
       "  </thead>\n",
       "  <tbody>\n",
       "    <tr>\n",
       "      <th>42</th>\n",
       "      <td>Male</td>\n",
       "      <td>82.0</td>\n",
       "      <td>0</td>\n",
       "      <td>1</td>\n",
       "      <td>Yes</td>\n",
       "      <td>Private</td>\n",
       "      <td>Urban</td>\n",
       "      <td>144.90</td>\n",
       "      <td>26.4</td>\n",
       "      <td>smokes</td>\n",
       "      <td>1</td>\n",
       "    </tr>\n",
       "    <tr>\n",
       "      <th>380</th>\n",
       "      <td>Male</td>\n",
       "      <td>4.0</td>\n",
       "      <td>0</td>\n",
       "      <td>0</td>\n",
       "      <td>No</td>\n",
       "      <td>children</td>\n",
       "      <td>Rural</td>\n",
       "      <td>106.22</td>\n",
       "      <td>16.7</td>\n",
       "      <td>Unknown</td>\n",
       "      <td>0</td>\n",
       "    </tr>\n",
       "    <tr>\n",
       "      <th>3524</th>\n",
       "      <td>Male</td>\n",
       "      <td>58.0</td>\n",
       "      <td>0</td>\n",
       "      <td>0</td>\n",
       "      <td>Yes</td>\n",
       "      <td>Private</td>\n",
       "      <td>Urban</td>\n",
       "      <td>79.95</td>\n",
       "      <td>25.9</td>\n",
       "      <td>never smoked</td>\n",
       "      <td>0</td>\n",
       "    </tr>\n",
       "    <tr>\n",
       "      <th>352</th>\n",
       "      <td>Female</td>\n",
       "      <td>20.0</td>\n",
       "      <td>0</td>\n",
       "      <td>0</td>\n",
       "      <td>No</td>\n",
       "      <td>Private</td>\n",
       "      <td>Rural</td>\n",
       "      <td>96.57</td>\n",
       "      <td>34.1</td>\n",
       "      <td>never smoked</td>\n",
       "      <td>0</td>\n",
       "    </tr>\n",
       "    <tr>\n",
       "      <th>4927</th>\n",
       "      <td>Female</td>\n",
       "      <td>10.0</td>\n",
       "      <td>0</td>\n",
       "      <td>0</td>\n",
       "      <td>No</td>\n",
       "      <td>children</td>\n",
       "      <td>Rural</td>\n",
       "      <td>69.84</td>\n",
       "      <td>13.7</td>\n",
       "      <td>Unknown</td>\n",
       "      <td>0</td>\n",
       "    </tr>\n",
       "  </tbody>\n",
       "</table>\n",
       "</div>"
      ],
      "text/plain": [
       "      gender   age hypertension heart_disease ever_married work_type  \\\n",
       "42      Male  82.0            0             1          Yes   Private   \n",
       "380     Male   4.0            0             0           No  children   \n",
       "3524    Male  58.0            0             0          Yes   Private   \n",
       "352   Female  20.0            0             0           No   Private   \n",
       "4927  Female  10.0            0             0           No  children   \n",
       "\n",
       "     Residence_type  avg_glucose_level   bmi smoking_status stroke  \n",
       "42            Urban             144.90  26.4         smokes      1  \n",
       "380           Rural             106.22  16.7        Unknown      0  \n",
       "3524          Urban              79.95  25.9   never smoked      0  \n",
       "352           Rural              96.57  34.1   never smoked      0  \n",
       "4927          Rural              69.84  13.7        Unknown      0  "
      ]
     },
     "execution_count": 41,
     "metadata": {},
     "output_type": "execute_result"
    }
   ],
   "source": [
    "testDataSet.head()"
   ]
  },
  {
   "cell_type": "code",
   "execution_count": null,
   "id": "8a8b4e7a",
   "metadata": {},
   "outputs": [],
   "source": []
  },
  {
   "cell_type": "code",
   "execution_count": 42,
   "id": "e42b1d02",
   "metadata": {},
   "outputs": [],
   "source": [
    "trainDataSet.to_csv(\"trainDataSetFINAL.csv\")"
   ]
  },
  {
   "cell_type": "code",
   "execution_count": 43,
   "id": "e90f696e",
   "metadata": {},
   "outputs": [],
   "source": [
    "testDataSet.to_csv(\"testDataSetFINAL.csv\")"
   ]
  },
  {
   "cell_type": "code",
   "execution_count": null,
   "id": "0d4e513c",
   "metadata": {},
   "outputs": [],
   "source": []
  },
  {
   "cell_type": "code",
   "execution_count": 44,
   "id": "9603dce5",
   "metadata": {
    "scrolled": true
   },
   "outputs": [
    {
     "data": {
      "image/png": "[encoded data removed]",
      "text/plain": [
       "<Figure size 432x288 with 2 Axes>"
      ]
     },
     "metadata": {
      "needs_background": "light"
     },
     "output_type": "display_data"
    }
   ],
   "source": [
    "sns.heatmap(trainDataSet.corr(),vmin=-1,vmax=1,annot=True)\n",
    "plt.show()"
   ]
  },
  {
   "cell_type": "code",
   "execution_count": 45,
   "id": "9f947bf6",
   "metadata": {},
   "outputs": [],
   "source": [
    "#Correlation plot for continuous data is done by using R  "
   ]
  },
  {
   "cell_type": "markdown",
   "id": "274f7303",
   "metadata": {},
   "source": [
    "## Label encoding"
   ]
  },
  {
   "cell_type": "code",
   "execution_count": 46,
   "id": "2cefb674",
   "metadata": {},
   "outputs": [
    {
     "data": {
      "text/plain": [
       "gender               category\n",
       "age                   float64\n",
       "hypertension         category\n",
       "heart_disease        category\n",
       "ever_married         category\n",
       "work_type            category\n",
       "Residence_type       category\n",
       "avg_glucose_level     float64\n",
       "bmi                   float64\n",
       "smoking_status       category\n",
       "dtype: object"
      ]
     },
     "execution_count": 46,
     "metadata": {},
     "output_type": "execute_result"
    }
   ],
   "source": [
    "x_train.dtypes"
   ]
  },
  {
   "cell_type": "code",
   "execution_count": 55,
   "id": "6da230ab",
   "metadata": {},
   "outputs": [
    {
     "data": {
      "text/plain": [
       "LabelEncoder()"
      ]
     },
     "execution_count": 55,
     "metadata": {},
     "output_type": "execute_result"
    }
   ],
   "source": [
    "le=LabelEncoder()\n",
    "le"
   ]
  },
  {
   "cell_type": "code",
   "execution_count": 56,
   "id": "699bc567",
   "metadata": {},
   "outputs": [],
   "source": [
    "x_train[['gender','hypertension','heart_disease','ever_married','work_type','Residence_type','smoking_status']]=x_train[['gender','hypertension','heart_disease','ever_married','work_type','Residence_type','smoking_status']].apply(lambda col:le.fit_transform(col))"
   ]
  },
  {
   "cell_type": "code",
   "execution_count": 57,
   "id": "587fe9d7",
   "metadata": {},
   "outputs": [
    {
     "data": {
      "text/html": [
       "<div>\n",
       "<style scoped>\n",
       "    .dataframe tbody tr th:only-of-type {\n",
       "        vertical-align: middle;\n",
       "    }\n",
       "\n",
       "    .dataframe tbody tr th {\n",
       "        vertical-align: top;\n",
       "    }\n",
       "\n",
       "    .dataframe thead th {\n",
       "        text-align: right;\n",
       "    }\n",
       "</style>\n",
       "<table border=\"1\" class=\"dataframe\">\n",
       "  <thead>\n",
       "    <tr style=\"text-align: right;\">\n",
       "      <th></th>\n",
       "      <th>gender</th>\n",
       "      <th>age</th>\n",
       "      <th>hypertension</th>\n",
       "      <th>heart_disease</th>\n",
       "      <th>ever_married</th>\n",
       "      <th>work_type</th>\n",
       "      <th>Residence_type</th>\n",
       "      <th>avg_glucose_level</th>\n",
       "      <th>bmi</th>\n",
       "      <th>smoking_status</th>\n",
       "    </tr>\n",
       "  </thead>\n",
       "  <tbody>\n",
       "    <tr>\n",
       "      <th>3029</th>\n",
       "      <td>0</td>\n",
       "      <td>36.0</td>\n",
       "      <td>0</td>\n",
       "      <td>0</td>\n",
       "      <td>1</td>\n",
       "      <td>2</td>\n",
       "      <td>0</td>\n",
       "      <td>67.29</td>\n",
       "      <td>36.7</td>\n",
       "      <td>1</td>\n",
       "    </tr>\n",
       "    <tr>\n",
       "      <th>2277</th>\n",
       "      <td>0</td>\n",
       "      <td>34.0</td>\n",
       "      <td>0</td>\n",
       "      <td>0</td>\n",
       "      <td>1</td>\n",
       "      <td>2</td>\n",
       "      <td>0</td>\n",
       "      <td>83.53</td>\n",
       "      <td>48.5</td>\n",
       "      <td>1</td>\n",
       "    </tr>\n",
       "    <tr>\n",
       "      <th>3002</th>\n",
       "      <td>1</td>\n",
       "      <td>60.0</td>\n",
       "      <td>0</td>\n",
       "      <td>0</td>\n",
       "      <td>1</td>\n",
       "      <td>2</td>\n",
       "      <td>0</td>\n",
       "      <td>65.16</td>\n",
       "      <td>30.8</td>\n",
       "      <td>2</td>\n",
       "    </tr>\n",
       "    <tr>\n",
       "      <th>246</th>\n",
       "      <td>0</td>\n",
       "      <td>75.0</td>\n",
       "      <td>0</td>\n",
       "      <td>0</td>\n",
       "      <td>1</td>\n",
       "      <td>3</td>\n",
       "      <td>0</td>\n",
       "      <td>78.80</td>\n",
       "      <td>29.3</td>\n",
       "      <td>1</td>\n",
       "    </tr>\n",
       "    <tr>\n",
       "      <th>2825</th>\n",
       "      <td>1</td>\n",
       "      <td>76.0</td>\n",
       "      <td>0</td>\n",
       "      <td>0</td>\n",
       "      <td>1</td>\n",
       "      <td>2</td>\n",
       "      <td>1</td>\n",
       "      <td>58.65</td>\n",
       "      <td>25.6</td>\n",
       "      <td>3</td>\n",
       "    </tr>\n",
       "  </tbody>\n",
       "</table>\n",
       "</div>"
      ],
      "text/plain": [
       "      gender   age  hypertension  heart_disease  ever_married  work_type  \\\n",
       "3029       0  36.0             0              0             1          2   \n",
       "2277       0  34.0             0              0             1          2   \n",
       "3002       1  60.0             0              0             1          2   \n",
       "246        0  75.0             0              0             1          3   \n",
       "2825       1  76.0             0              0             1          2   \n",
       "\n",
       "      Residence_type  avg_glucose_level   bmi  smoking_status  \n",
       "3029               0              67.29  36.7               1  \n",
       "2277               0              83.53  48.5               1  \n",
       "3002               0              65.16  30.8               2  \n",
       "246                0              78.80  29.3               1  \n",
       "2825               1              58.65  25.6               3  "
      ]
     },
     "execution_count": 57,
     "metadata": {},
     "output_type": "execute_result"
    }
   ],
   "source": [
    "x_train.head()"
   ]
  },
  {
   "cell_type": "code",
   "execution_count": 58,
   "id": "074a6025",
   "metadata": {},
   "outputs": [],
   "source": [
    "x_test[['gender','hypertension','heart_disease','ever_married','work_type','Residence_type','smoking_status']]=x_test[['gender','hypertension','heart_disease','ever_married','work_type','Residence_type','smoking_status']].apply(lambda col:le.fit_transform(col))"
   ]
  },
  {
   "cell_type": "code",
   "execution_count": 59,
   "id": "be92bccf",
   "metadata": {},
   "outputs": [
    {
     "data": {
      "text/html": [
       "<div>\n",
       "<style scoped>\n",
       "    .dataframe tbody tr th:only-of-type {\n",
       "        vertical-align: middle;\n",
       "    }\n",
       "\n",
       "    .dataframe tbody tr th {\n",
       "        vertical-align: top;\n",
       "    }\n",
       "\n",
       "    .dataframe thead th {\n",
       "        text-align: right;\n",
       "    }\n",
       "</style>\n",
       "<table border=\"1\" class=\"dataframe\">\n",
       "  <thead>\n",
       "    <tr style=\"text-align: right;\">\n",
       "      <th></th>\n",
       "      <th>gender</th>\n",
       "      <th>age</th>\n",
       "      <th>hypertension</th>\n",
       "      <th>heart_disease</th>\n",
       "      <th>ever_married</th>\n",
       "      <th>work_type</th>\n",
       "      <th>Residence_type</th>\n",
       "      <th>avg_glucose_level</th>\n",
       "      <th>bmi</th>\n",
       "      <th>smoking_status</th>\n",
       "    </tr>\n",
       "  </thead>\n",
       "  <tbody>\n",
       "    <tr>\n",
       "      <th>42</th>\n",
       "      <td>1</td>\n",
       "      <td>82.0</td>\n",
       "      <td>0</td>\n",
       "      <td>1</td>\n",
       "      <td>1</td>\n",
       "      <td>2</td>\n",
       "      <td>1</td>\n",
       "      <td>144.90</td>\n",
       "      <td>26.4</td>\n",
       "      <td>3</td>\n",
       "    </tr>\n",
       "    <tr>\n",
       "      <th>380</th>\n",
       "      <td>1</td>\n",
       "      <td>4.0</td>\n",
       "      <td>0</td>\n",
       "      <td>0</td>\n",
       "      <td>0</td>\n",
       "      <td>4</td>\n",
       "      <td>0</td>\n",
       "      <td>106.22</td>\n",
       "      <td>16.7</td>\n",
       "      <td>0</td>\n",
       "    </tr>\n",
       "    <tr>\n",
       "      <th>3524</th>\n",
       "      <td>1</td>\n",
       "      <td>58.0</td>\n",
       "      <td>0</td>\n",
       "      <td>0</td>\n",
       "      <td>1</td>\n",
       "      <td>2</td>\n",
       "      <td>1</td>\n",
       "      <td>79.95</td>\n",
       "      <td>25.9</td>\n",
       "      <td>2</td>\n",
       "    </tr>\n",
       "    <tr>\n",
       "      <th>352</th>\n",
       "      <td>0</td>\n",
       "      <td>20.0</td>\n",
       "      <td>0</td>\n",
       "      <td>0</td>\n",
       "      <td>0</td>\n",
       "      <td>2</td>\n",
       "      <td>0</td>\n",
       "      <td>96.57</td>\n",
       "      <td>34.1</td>\n",
       "      <td>2</td>\n",
       "    </tr>\n",
       "    <tr>\n",
       "      <th>4927</th>\n",
       "      <td>0</td>\n",
       "      <td>10.0</td>\n",
       "      <td>0</td>\n",
       "      <td>0</td>\n",
       "      <td>0</td>\n",
       "      <td>4</td>\n",
       "      <td>0</td>\n",
       "      <td>69.84</td>\n",
       "      <td>13.7</td>\n",
       "      <td>0</td>\n",
       "    </tr>\n",
       "  </tbody>\n",
       "</table>\n",
       "</div>"
      ],
      "text/plain": [
       "      gender   age  hypertension  heart_disease  ever_married  work_type  \\\n",
       "42         1  82.0             0              1             1          2   \n",
       "380        1   4.0             0              0             0          4   \n",
       "3524       1  58.0             0              0             1          2   \n",
       "352        0  20.0             0              0             0          2   \n",
       "4927       0  10.0             0              0             0          4   \n",
       "\n",
       "      Residence_type  avg_glucose_level   bmi  smoking_status  \n",
       "42                 1             144.90  26.4               3  \n",
       "380                0             106.22  16.7               0  \n",
       "3524               1              79.95  25.9               2  \n",
       "352                0              96.57  34.1               2  \n",
       "4927               0              69.84  13.7               0  "
      ]
     },
     "execution_count": 59,
     "metadata": {},
     "output_type": "execute_result"
    }
   ],
   "source": [
    "x_test.head()"
   ]
  },
  {
   "cell_type": "code",
   "execution_count": 48,
   "id": "f43384a4",
   "metadata": {},
   "outputs": [
    {
     "data": {
      "text/plain": [
       "Female    2405\n",
       "Male      1682\n",
       "Other        1\n",
       "Name: gender, dtype: int64"
      ]
     },
     "execution_count": 48,
     "metadata": {},
     "output_type": "execute_result"
    }
   ],
   "source": [
    "x_train.gender.value_counts()"
   ]
  },
  {
   "cell_type": "code",
   "execution_count": 60,
   "id": "93a716ee",
   "metadata": {},
   "outputs": [
    {
     "data": {
      "text/plain": [
       "0    2405\n",
       "1    1682\n",
       "2       1\n",
       "Name: gender, dtype: int64"
      ]
     },
     "execution_count": 60,
     "metadata": {},
     "output_type": "execute_result"
    }
   ],
   "source": [
    "x_train.gender.value_counts()"
   ]
  },
  {
   "cell_type": "code",
   "execution_count": null,
   "id": "927bd8cc",
   "metadata": {},
   "outputs": [],
   "source": []
  },
  {
   "cell_type": "code",
   "execution_count": 49,
   "id": "4ef50355",
   "metadata": {},
   "outputs": [
    {
     "data": {
      "text/plain": [
       "0    3682\n",
       "1     406\n",
       "Name: hypertension, dtype: int64"
      ]
     },
     "execution_count": 49,
     "metadata": {},
     "output_type": "execute_result"
    }
   ],
   "source": [
    "x_train.hypertension.value_counts()"
   ]
  },
  {
   "cell_type": "code",
   "execution_count": 61,
   "id": "57f34cfa",
   "metadata": {},
   "outputs": [
    {
     "data": {
      "text/plain": [
       "0    3682\n",
       "1     406\n",
       "Name: hypertension, dtype: int64"
      ]
     },
     "execution_count": 61,
     "metadata": {},
     "output_type": "execute_result"
    }
   ],
   "source": [
    "x_train.hypertension.value_counts()"
   ]
  },
  {
   "cell_type": "code",
   "execution_count": null,
   "id": "ab5b898b",
   "metadata": {},
   "outputs": [],
   "source": []
  },
  {
   "cell_type": "code",
   "execution_count": 50,
   "id": "cae0afc5",
   "metadata": {},
   "outputs": [
    {
     "data": {
      "text/plain": [
       "0    3866\n",
       "1     222\n",
       "Name: heart_disease, dtype: int64"
      ]
     },
     "execution_count": 50,
     "metadata": {},
     "output_type": "execute_result"
    }
   ],
   "source": [
    "x_train.heart_disease.value_counts()"
   ]
  },
  {
   "cell_type": "code",
   "execution_count": 62,
   "id": "422203eb",
   "metadata": {},
   "outputs": [
    {
     "data": {
      "text/plain": [
       "0    3866\n",
       "1     222\n",
       "Name: heart_disease, dtype: int64"
      ]
     },
     "execution_count": 62,
     "metadata": {},
     "output_type": "execute_result"
    }
   ],
   "source": [
    "x_train.heart_disease.value_counts()"
   ]
  },
  {
   "cell_type": "code",
   "execution_count": null,
   "id": "c5f1cc49",
   "metadata": {},
   "outputs": [],
   "source": []
  },
  {
   "cell_type": "code",
   "execution_count": 51,
   "id": "fece19c7",
   "metadata": {},
   "outputs": [
    {
     "data": {
      "text/plain": [
       "Yes    2696\n",
       "No     1392\n",
       "Name: ever_married, dtype: int64"
      ]
     },
     "execution_count": 51,
     "metadata": {},
     "output_type": "execute_result"
    }
   ],
   "source": [
    "x_train.ever_married.value_counts()"
   ]
  },
  {
   "cell_type": "code",
   "execution_count": 63,
   "id": "76137515",
   "metadata": {},
   "outputs": [
    {
     "data": {
      "text/plain": [
       "1    2696\n",
       "0    1392\n",
       "Name: ever_married, dtype: int64"
      ]
     },
     "execution_count": 63,
     "metadata": {},
     "output_type": "execute_result"
    }
   ],
   "source": [
    "x_train.ever_married.value_counts()"
   ]
  },
  {
   "cell_type": "code",
   "execution_count": null,
   "id": "bbd1f78c",
   "metadata": {},
   "outputs": [],
   "source": []
  },
  {
   "cell_type": "code",
   "execution_count": 52,
   "id": "0a0b020b",
   "metadata": {},
   "outputs": [
    {
     "data": {
      "text/plain": [
       "Private          2322\n",
       "Self-employed     658\n",
       "children          548\n",
       "Govt_job          546\n",
       "Never_worked       14\n",
       "Name: work_type, dtype: int64"
      ]
     },
     "execution_count": 52,
     "metadata": {},
     "output_type": "execute_result"
    }
   ],
   "source": [
    "x_train.work_type.value_counts()"
   ]
  },
  {
   "cell_type": "code",
   "execution_count": 64,
   "id": "3056bb33",
   "metadata": {},
   "outputs": [
    {
     "data": {
      "text/plain": [
       "2    2322\n",
       "3     658\n",
       "4     548\n",
       "0     546\n",
       "1      14\n",
       "Name: work_type, dtype: int64"
      ]
     },
     "execution_count": 64,
     "metadata": {},
     "output_type": "execute_result"
    }
   ],
   "source": [
    "x_train.work_type.value_counts()"
   ]
  },
  {
   "cell_type": "code",
   "execution_count": null,
   "id": "e64ede28",
   "metadata": {},
   "outputs": [],
   "source": []
  },
  {
   "cell_type": "code",
   "execution_count": 53,
   "id": "c903fe63",
   "metadata": {},
   "outputs": [
    {
     "data": {
      "text/plain": [
       "Urban    2085\n",
       "Rural    2003\n",
       "Name: Residence_type, dtype: int64"
      ]
     },
     "execution_count": 53,
     "metadata": {},
     "output_type": "execute_result"
    }
   ],
   "source": [
    "x_train.Residence_type.value_counts()"
   ]
  },
  {
   "cell_type": "code",
   "execution_count": 65,
   "id": "b6506654",
   "metadata": {},
   "outputs": [
    {
     "data": {
      "text/plain": [
       "1    2085\n",
       "0    2003\n",
       "Name: Residence_type, dtype: int64"
      ]
     },
     "execution_count": 65,
     "metadata": {},
     "output_type": "execute_result"
    }
   ],
   "source": [
    "x_train.Residence_type.value_counts()"
   ]
  },
  {
   "cell_type": "code",
   "execution_count": null,
   "id": "a2601226",
   "metadata": {},
   "outputs": [],
   "source": []
  },
  {
   "cell_type": "code",
   "execution_count": 54,
   "id": "0abd2f2d",
   "metadata": {},
   "outputs": [
    {
     "data": {
      "text/plain": [
       "never smoked       1510\n",
       "Unknown            1229\n",
       "formerly smoked     712\n",
       "smokes              637\n",
       "Name: smoking_status, dtype: int64"
      ]
     },
     "execution_count": 54,
     "metadata": {},
     "output_type": "execute_result"
    }
   ],
   "source": [
    "x_train.smoking_status.value_counts()"
   ]
  },
  {
   "cell_type": "code",
   "execution_count": 66,
   "id": "3f7fa23c",
   "metadata": {},
   "outputs": [
    {
     "data": {
      "text/plain": [
       "2    1510\n",
       "0    1229\n",
       "1     712\n",
       "3     637\n",
       "Name: smoking_status, dtype: int64"
      ]
     },
     "execution_count": 66,
     "metadata": {},
     "output_type": "execute_result"
    }
   ],
   "source": [
    "x_train.smoking_status.value_counts()"
   ]
  },
  {
   "cell_type": "code",
   "execution_count": null,
   "id": "705a5348",
   "metadata": {},
   "outputs": [],
   "source": []
  },
  {
   "cell_type": "code",
   "execution_count": null,
   "id": "52932a13",
   "metadata": {
    "scrolled": true
   },
   "outputs": [],
   "source": [
    "#x_train_new=pd.get_dummies(x_train[['gender','hypertension','heart_disease','ever_married','work_type','Residence_type',\n",
    "#                              'smoking_status']],drop_first=True)\n",
    "#x_train_new.head()"
   ]
  },
  {
   "cell_type": "code",
   "execution_count": null,
   "id": "71102d64",
   "metadata": {},
   "outputs": [],
   "source": [
    "#x_test_new=pd.get_dummies(x_test[['gender','hypertension','heart_disease','ever_married','work_type','Residence_type',\n",
    "#                              'smoking_status']],drop_first=True)\n",
    "#x_test_new.head()"
   ]
  },
  {
   "cell_type": "code",
   "execution_count": null,
   "id": "86527386",
   "metadata": {},
   "outputs": [],
   "source": [
    "#x_train_new.shape"
   ]
  },
  {
   "cell_type": "code",
   "execution_count": null,
   "id": "b8400634",
   "metadata": {},
   "outputs": [],
   "source": [
    "#x_test_new.shape"
   ]
  },
  {
   "cell_type": "code",
   "execution_count": null,
   "id": "c4c5d09e",
   "metadata": {},
   "outputs": [],
   "source": [
    "# Get missing columns in the training test\n",
    "#missing_cols = set( x_train_new.columns ) - set( x_test_new.columns )\n",
    "#missing_cols"
   ]
  },
  {
   "cell_type": "code",
   "execution_count": null,
   "id": "55563a5c",
   "metadata": {},
   "outputs": [],
   "source": [
    "#x_test_new= x_test_new.reindex(columns = x_train_new.columns, fill_value=0)"
   ]
  },
  {
   "cell_type": "code",
   "execution_count": null,
   "id": "dca23ff7",
   "metadata": {},
   "outputs": [],
   "source": [
    "#missing_cols = set( x_train_new.columns ) - set( x_test_new.columns )\n",
    "#missing_cols"
   ]
  },
  {
   "cell_type": "code",
   "execution_count": 67,
   "id": "354bc14a",
   "metadata": {},
   "outputs": [
    {
     "data": {
      "text/plain": [
       "(4088, 10)"
      ]
     },
     "execution_count": 67,
     "metadata": {},
     "output_type": "execute_result"
    }
   ],
   "source": [
    "x_train.shape"
   ]
  },
  {
   "cell_type": "code",
   "execution_count": 68,
   "id": "25278247",
   "metadata": {},
   "outputs": [
    {
     "data": {
      "text/plain": [
       "(1022, 10)"
      ]
     },
     "execution_count": 68,
     "metadata": {},
     "output_type": "execute_result"
    }
   ],
   "source": [
    "x_test.shape"
   ]
  },
  {
   "cell_type": "code",
   "execution_count": 69,
   "id": "7ad369d2",
   "metadata": {},
   "outputs": [
    {
     "data": {
      "text/plain": [
       "0    3893\n",
       "1     195\n",
       "Name: stroke, dtype: int64"
      ]
     },
     "execution_count": 69,
     "metadata": {},
     "output_type": "execute_result"
    }
   ],
   "source": [
    "y_train.value_counts()"
   ]
  },
  {
   "cell_type": "markdown",
   "id": "b4b5ca9e",
   "metadata": {},
   "source": [
    "# Performing SMOTE"
   ]
  },
  {
   "cell_type": "code",
   "execution_count": null,
   "id": "1c12fb77",
   "metadata": {},
   "outputs": [],
   "source": [
    "smt=SMOTE()"
   ]
  },
  {
   "cell_type": "code",
   "execution_count": null,
   "id": "8eb47cc1",
   "metadata": {},
   "outputs": [],
   "source": [
    "x_sm,y_sm=smt.fit_resample(x_train_new,y_train)"
   ]
  },
  {
   "cell_type": "code",
   "execution_count": null,
   "id": "f2150ea5",
   "metadata": {},
   "outputs": [],
   "source": [
    "y_sm.value_counts()"
   ]
  },
  {
   "cell_type": "markdown",
   "id": "c0d51bd0",
   "metadata": {},
   "source": [
    "# Over sampling (SMOTE)"
   ]
  },
  {
   "cell_type": "markdown",
   "id": "33663e3f",
   "metadata": {},
   "source": [
    "## 1) Logistic"
   ]
  },
  {
   "cell_type": "code",
   "execution_count": null,
   "id": "93cb55ef",
   "metadata": {},
   "outputs": [],
   "source": [
    "# define models and parameters\n",
    "model = LogisticRegression()\n",
    "solvers = ['newton-cg', 'lbfgs', 'liblinear']\n",
    "penalty = ['l2']\n",
    "c_values = [100, 10, 1.0, 0.1, 0.01]\n",
    "# define grid search\n",
    "grid = dict(solver=solvers,penalty=penalty,C=c_values)\n",
    "CV = RepeatedStratifiedKFold(n_splits=10, n_repeats=3, random_state=1)\n",
    "grid_search = GridSearchCV(estimator=model, param_grid=grid, n_jobs=-1, cv=CV, scoring='accuracy',error_score=0)\n",
    "grid_result = grid_search.fit(x_sm,y_sm)\n",
    "# summarize results\n",
    "print(\"Best: %f using %s\" % (grid_result.best_score_, grid_result.best_params_))\n",
    "means = grid_result.cv_results_['mean_test_score']\n",
    "stds = grid_result.cv_results_['std_test_score']\n",
    "params = grid_result.cv_results_['params']\n",
    "for mean, stdev, param in zip(means, stds, params):\n",
    "    print(\"%f (%f) with: %r\" % (mean, stdev, param))"
   ]
  },
  {
   "cell_type": "code",
   "execution_count": null,
   "id": "e0137098",
   "metadata": {},
   "outputs": [],
   "source": []
  },
  {
   "cell_type": "code",
   "execution_count": null,
   "id": "877081f3",
   "metadata": {},
   "outputs": [],
   "source": [
    "lr = LogisticRegression(C=100,penalty='l2',solver='lbfgs')\n",
    "lr.fit(x_sm,y_sm)"
   ]
  },
  {
   "cell_type": "markdown",
   "id": "f3e04002",
   "metadata": {},
   "source": [
    "## 2)Ridge"
   ]
  },
  {
   "cell_type": "code",
   "execution_count": null,
   "id": "b5fa803b",
   "metadata": {},
   "outputs": [],
   "source": [
    "params = {\"alpha\":[0.1,0.2,0.3,0.4,0.5,0.6,0.7,0.8,0.9,1]}\n",
    "model = RidgeClassifier()\n",
    "CV = KFold(n_splits=10,shuffle=True)"
   ]
  },
  {
   "cell_type": "code",
   "execution_count": null,
   "id": "3c1620d9",
   "metadata": {},
   "outputs": [],
   "source": [
    "gsearch = GridSearchCV(model, params,cv=CV)"
   ]
  },
  {
   "cell_type": "code",
   "execution_count": null,
   "id": "a7b79175",
   "metadata": {},
   "outputs": [],
   "source": [
    "results = gsearch.fit(x_sm, y_sm)"
   ]
  },
  {
   "cell_type": "code",
   "execution_count": null,
   "id": "7e76583b",
   "metadata": {},
   "outputs": [],
   "source": [
    "results.best_params_"
   ]
  },
  {
   "cell_type": "code",
   "execution_count": null,
   "id": "e745c918",
   "metadata": {},
   "outputs": [],
   "source": [
    "rr = RidgeClassifier(alpha=0.1)\n",
    "rr.fit(x_sm, y_sm)"
   ]
  },
  {
   "cell_type": "markdown",
   "id": "df1bf2e6",
   "metadata": {},
   "source": [
    "## 3)Bagging"
   ]
  },
  {
   "cell_type": "code",
   "execution_count": null,
   "id": "073f5f77",
   "metadata": {},
   "outputs": [],
   "source": [
    "# define models and parameters\n",
    "model = BaggingClassifier()\n",
    "n_estimators = [10, 100, 1000]\n",
    "# define grid search\n",
    "grid = dict(n_estimators=n_estimators)\n",
    "CV = RepeatedStratifiedKFold(n_splits=10, n_repeats=3, random_state=1)\n",
    "grid_search = GridSearchCV(estimator=model, param_grid=grid, n_jobs=-1, cv=CV, scoring='accuracy',error_score=0)\n",
    "grid_result = grid_search.fit(x_sm,y_sm)\n",
    "# summarize results\n",
    "print(\"Best: %f using %s\" % (grid_result.best_score_, grid_result.best_params_))\n",
    "means = grid_result.cv_results_['mean_test_score']\n",
    "stds = grid_result.cv_results_['std_test_score']\n",
    "params = grid_result.cv_results_['params']\n",
    "for mean, stdev, param in zip(means, stds, params):\n",
    "    print(\"%f (%f) with: %r\" % (mean, stdev, param))"
   ]
  },
  {
   "cell_type": "code",
   "execution_count": null,
   "id": "0ded679b",
   "metadata": {},
   "outputs": [],
   "source": [
    "bag = BaggingClassifier(n_estimators=100)\n",
    "bag.fit(x_sm, y_sm)"
   ]
  },
  {
   "cell_type": "markdown",
   "id": "1d7b8be7",
   "metadata": {},
   "source": [
    "## 4)Random Forest"
   ]
  },
  {
   "cell_type": "code",
   "execution_count": null,
   "id": "ca8da9a4",
   "metadata": {},
   "outputs": [],
   "source": [
    "# define models and parameters\n",
    "model = RandomForestClassifier()\n",
    "n_estimators = [10, 100]\n",
    "max_features = ['sqrt', 'log2']\n",
    "# define grid search\n",
    "grid = dict(n_estimators=n_estimators,max_features=max_features)\n",
    "cv = RepeatedStratifiedKFold(n_splits=10, n_repeats=3, random_state=1)\n",
    "grid_search = GridSearchCV(estimator=model, param_grid=grid, n_jobs=-1, cv=cv, scoring='accuracy',error_score=0)\n",
    "grid_result = grid_search.fit(x_sm,y_sm)\n",
    "# summarize results\n",
    "print(\"Best: %f using %s\" % (grid_result.best_score_, grid_result.best_params_))\n",
    "means = grid_result.cv_results_['mean_test_score']\n",
    "stds = grid_result.cv_results_['std_test_score']\n",
    "params = grid_result.cv_results_['params']\n",
    "for mean, stdev, param in zip(means, stds, params):\n",
    "    print(\"%f (%f) with: %r\" % (mean, stdev, param))"
   ]
  },
  {
   "cell_type": "code",
   "execution_count": null,
   "id": "815ce793",
   "metadata": {},
   "outputs": [],
   "source": [
    "rf = RandomForestClassifier(max_features= 'sqrt', n_estimators= 100)\n",
    "rf.fit(x_sm, y_sm)"
   ]
  },
  {
   "cell_type": "markdown",
   "id": "07cc21b5",
   "metadata": {},
   "source": [
    "## 5)KNN"
   ]
  },
  {
   "cell_type": "code",
   "execution_count": null,
   "id": "603c2b58",
   "metadata": {},
   "outputs": [],
   "source": [
    "# define models and parameters\n",
    "model = KNeighborsClassifier()\n",
    "n_neighbors = range(5)\n",
    "weights = ['uniform', 'distance']\n",
    "metric = ['euclidean', 'manhattan', 'minkowski']\n",
    "# define grid search\n",
    "grid = dict(n_neighbors=n_neighbors,weights=weights,metric=metric)\n",
    "CV = RepeatedStratifiedKFold(n_splits=10, n_repeats=3, random_state=1)\n",
    "grid_search = GridSearchCV(estimator=model, param_grid=grid, n_jobs=-1, cv=CV, scoring='accuracy',error_score=0)\n",
    "grid_result = grid_search.fit(x_sm,y_sm)\n",
    "# summarize results\n",
    "print(\"Best: %f using %s\" % (grid_result.best_score_, grid_result.best_params_))\n",
    "means = grid_result.cv_results_['mean_test_score']\n",
    "stds = grid_result.cv_results_['std_test_score']\n",
    "params = grid_result.cv_results_['params']\n",
    "for mean, stdev, param in zip(means, stds, params):\n",
    "    print(\"%f (%f) with: %r\" % (mean, stdev, param))"
   ]
  },
  {
   "cell_type": "code",
   "execution_count": null,
   "id": "17f063a9",
   "metadata": {},
   "outputs": [],
   "source": [
    "knn = KNeighborsClassifier(n_neighbors=3,weights='distance',metric='euclidean')\n",
    "knn.fit(x_sm, y_sm)"
   ]
  },
  {
   "cell_type": "markdown",
   "id": "0cd6cae1",
   "metadata": {},
   "source": [
    "## 6)SVM"
   ]
  },
  {
   "cell_type": "code",
   "execution_count": null,
   "id": "9a482111",
   "metadata": {},
   "outputs": [],
   "source": [
    "model = SVC()\n",
    "kernel = ['poly', 'rbf', 'sigmoid']\n",
    "C = [50, 10, 1.0, 0.1, 0.01]\n",
    "gamma = ['scale']\n",
    "# define grid search\n",
    "grid = dict(kernel=kernel,C=C,gamma=gamma)\n",
    "cv = RepeatedStratifiedKFold(n_splits=10, n_repeats=3, random_state=1)\n",
    "grid_search = GridSearchCV(estimator=model, param_grid=grid, n_jobs=-1, cv=cv, scoring='accuracy',error_score=0)\n",
    "grid_result = grid_search.fit(x_sm, y_sm)\n",
    "# summarize results\n",
    "print(\"Best: %f using %s\" % (grid_result.best_score_, grid_result.best_params_))\n",
    "means = grid_result.cv_results_['mean_test_score']\n",
    "stds = grid_result.cv_results_['std_test_score']\n",
    "params = grid_result.cv_results_['params']\n",
    "for mean, stdev, param in zip(means, stds, params):\n",
    "    print(\"%f (%f) with: %r\" % (mean, stdev, param))"
   ]
  },
  {
   "cell_type": "code",
   "execution_count": null,
   "id": "51fed571",
   "metadata": {},
   "outputs": [],
   "source": [
    "SVM = SVC(C= 50, gamma='scale', kernel= 'rbf')\n",
    "SVM.fit(x_sm, y_sm)"
   ]
  },
  {
   "cell_type": "markdown",
   "id": "ea3a622e",
   "metadata": {},
   "source": [
    "## 7)GradientBoosting"
   ]
  },
  {
   "cell_type": "code",
   "execution_count": null,
   "id": "f99c3e71",
   "metadata": {},
   "outputs": [],
   "source": [
    "# define models and parameters\n",
    "model = GradientBoostingClassifier()\n",
    "n_estimators = [10, 100]\n",
    "learning_rate = [0.01, 0.1]\n",
    "subsample = [0.5, 1.0]\n",
    "max_depth = [3, 7]\n",
    "# define grid search\n",
    "grid = dict(learning_rate=learning_rate, n_estimators=n_estimators, subsample=subsample, max_depth=max_depth)\n",
    "CV = RepeatedStratifiedKFold(n_splits=10, n_repeats=3, random_state=1)\n",
    "grid_search = GridSearchCV(estimator=model, param_grid=grid, n_jobs=-1, cv=CV, scoring='accuracy',error_score=0)\n",
    "grid_result = grid_search.fit(x_sm, y_sm)\n",
    "# summarize results\n",
    "print(\"Best: %f using %s\" % (grid_result.best_score_, grid_result.best_params_))\n",
    "means = grid_result.cv_results_['mean_test_score']\n",
    "stds = grid_result.cv_results_['std_test_score']\n",
    "params = grid_result.cv_results_['params']\n",
    "for mean, stdev, param in zip(means, stds, params):\n",
    "    print(\"%f (%f) with: %r\" % (mean, stdev, param))"
   ]
  },
  {
   "cell_type": "code",
   "execution_count": null,
   "id": "a5e14fa4",
   "metadata": {},
   "outputs": [],
   "source": [
    "gradrg=GradientBoostingClassifier(learning_rate = 0.1, max_depth = 7, n_estimators = 100, subsample = 0.5)\n",
    "gradrg.fit(x_sm, y_sm)"
   ]
  },
  {
   "cell_type": "markdown",
   "id": "d31de7d3",
   "metadata": {},
   "source": [
    "## 9)LDA"
   ]
  },
  {
   "cell_type": "code",
   "execution_count": null,
   "id": "5c02d0c2",
   "metadata": {},
   "outputs": [],
   "source": [
    "# define models and parameters\n",
    "model = LinearDiscriminantAnalysis()\n",
    "solver = ['svd', 'lsqr', 'eigen']\n",
    "shrinkage = ['auto','None']\n",
    "# define grid search\n",
    "grid = dict(solver=solver, shrinkage=shrinkage)\n",
    "CV = RepeatedStratifiedKFold(n_splits=10, n_repeats=3, random_state=1)\n",
    "grid_search = GridSearchCV(estimator=model, param_grid=grid, n_jobs=-1, cv=CV, scoring='accuracy',error_score=0)\n",
    "grid_result = grid_search.fit(x_sm, y_sm)\n",
    "# summarize results\n",
    "print(\"Best: %f using %s\" % (grid_result.best_score_, grid_result.best_params_))\n",
    "means = grid_result.cv_results_['mean_test_score']\n",
    "stds = grid_result.cv_results_['std_test_score']\n",
    "params = grid_result.cv_results_['params']\n",
    "for mean, stdev, param in zip(means, stds, params):\n",
    "    print(\"%f (%f) with: %r\" % (mean, stdev, param))"
   ]
  },
  {
   "cell_type": "code",
   "execution_count": null,
   "id": "a3ee1d74",
   "metadata": {},
   "outputs": [],
   "source": [
    "lda=LinearDiscriminantAnalysis(shrinkage = 'auto', solver = 'lsqr')\n",
    "lda.fit(x_sm, y_sm)"
   ]
  },
  {
   "cell_type": "code",
   "execution_count": null,
   "id": "9aed156b",
   "metadata": {},
   "outputs": [],
   "source": []
  },
  {
   "cell_type": "code",
   "execution_count": null,
   "id": "6bfc192e",
   "metadata": {},
   "outputs": [],
   "source": [
    "def get_performances(actual_Y, pred_Y):\n",
    "    cm = confusion_matrix(actual_Y, pred_Y.round())\n",
    "    total = sum(sum(cm))\n",
    "    accuracy = (cm[0,0]+cm[1,1])/total\n",
    "    sensitivity = cm[0,0]/(cm[0,0]+cm[0,1])\n",
    "    specificity = cm[1,1]/(cm[1,0]+cm[1,1])\n",
    "    return accuracy, sensitivity, specificity"
   ]
  },
  {
   "cell_type": "code",
   "execution_count": null,
   "id": "c636699e",
   "metadata": {},
   "outputs": [],
   "source": [
    "pred_Y_lr = lr.predict(x_test_new) # predicts the Y given the fitted model Logistic Regression\n",
    "pred_Y_rr = rr.predict(x_test_new) # predicts the Y given the fitted model Ridge Regression\n",
    "pred_Y_bag = bag.predict(x_test_new) # predicts the Y given the fitted model Bagging\n",
    "pred_Y_rf = rf.predict(x_test_new) # predicts the Y given the fitted model Random Forest\n",
    "pred_Y_knn = knn.predict(x_test_new) # predicts the Y given the fitted model KNN\n",
    "pred_Y_svm = SVM.predict(x_test_new) # predicts the Y given the fitted model Support Vector Machines\n",
    "pred_Y_gradrg = gradrg.predict(x_test_new) # predicts the Y given the fitted model Gradient Boosting\n",
    "pred_Y_lda = lda.predict(x_test_new) # predicts the Y given the fitted model LDA"
   ]
  },
  {
   "cell_type": "code",
   "execution_count": null,
   "id": "c50c054d",
   "metadata": {},
   "outputs": [],
   "source": [
    "# accuracy, sensitivity, and specificity for model Random Forest\n",
    "accuracy_lr, sensitivity_lr, specificity_lr = get_performances(y_test, pred_Y_lr)\n",
    "\n",
    "# accuracy, sensitivity, and specificity for model Random Forest\n",
    "accuracy_rr, sensitivity_rr, specificity_rr = get_performances(y_test, pred_Y_rr)\n",
    "\n",
    "# accuracy, sensitivity, and specificity for model Random Forest\n",
    "accuracy_bag, sensitivity_bag, specificity_bag = get_performances(y_test, pred_Y_bag)\n",
    "\n",
    "# accuracy, sensitivity, and specificity for model Random Forest\n",
    "accuracy_rf, sensitivity_rf, specificity_rf = get_performances(y_test, pred_Y_rf)\n",
    "\n",
    "# accuracy, sensitivity, and specificity for model KNN\n",
    "accuracy_knn, sensitivity_knn, specificity_knn = get_performances(y_test, pred_Y_knn)\n",
    "\n",
    "# accuracy, sensitivity, and specificity for model Support Vector Machines\n",
    "accuracy_svm, sensitivity_svm, specificity_svm = get_performances(y_test, pred_Y_svm)\n",
    "\n",
    "# accuracy, sensitivity, and specificity for model Gradient Boosting\n",
    "accuracy_gradrg, sensitivity_gradrg, specificity_gradrg = get_performances(y_test, pred_Y_gradrg)\n",
    "\n",
    "# accuracy, sensitivity, and specificity for model LDA\n",
    "accuracy_lda, sensitivity_lda, specificity_lda = get_performances(y_test, pred_Y_lda)"
   ]
  },
  {
   "cell_type": "code",
   "execution_count": null,
   "id": "d278ad4c",
   "metadata": {
    "scrolled": false
   },
   "outputs": [],
   "source": [
    "perf = pd.DataFrame([accuracy_lr,accuracy_rr,accuracy_bag,accuracy_rf,accuracy_knn,accuracy_svm,accuracy_gradrg,accuracy_lda], \n",
    "                    columns = ['Accuracy'], \n",
    "                    index = ['Logistic Regression','Ridge Regression','Bagging','Random Forest','KNN','Support Vector Machine','Gradient Boosting','LDA'])\n",
    "\n",
    "perf['Sensitivity'] = np.asarray([sensitivity_lr,sensitivity_rr,sensitivity_bag,sensitivity_rf,\n",
    "                                  sensitivity_knn,sensitivity_svm,sensitivity_gradrg,sensitivity_lda])\n",
    "\n",
    "perf['Specificity'] = np.asarray([specificity_lr,specificity_rr,specificity_bag,specificity_rf,\n",
    "                                  specificity_knn,specificity_svm,specificity_gradrg,specificity_lda])\n",
    "perf"
   ]
  },
  {
   "cell_type": "markdown",
   "id": "4a5cdbc0",
   "metadata": {},
   "source": [
    "# Without re-sampling (SMOTE)"
   ]
  },
  {
   "cell_type": "markdown",
   "id": "e9bcf098",
   "metadata": {},
   "source": [
    "## 1) Logistic"
   ]
  },
  {
   "cell_type": "code",
   "execution_count": null,
   "id": "d6d26f68",
   "metadata": {},
   "outputs": [],
   "source": [
    "lr = LogisticRegression(C=100,penalty='l2',solver='newton-cg')\n",
    "lr.fit(x_train_new,y_train)"
   ]
  },
  {
   "cell_type": "markdown",
   "id": "9f5da1ea",
   "metadata": {},
   "source": [
    "## 2) Ridge"
   ]
  },
  {
   "cell_type": "code",
   "execution_count": null,
   "id": "816ec923",
   "metadata": {},
   "outputs": [],
   "source": [
    "rr = RidgeClassifier(alpha=0.7)\n",
    "rr.fit(x_train_new,y_train)"
   ]
  },
  {
   "cell_type": "markdown",
   "id": "b3b1d20f",
   "metadata": {},
   "source": [
    "## 3)Bagging"
   ]
  },
  {
   "cell_type": "code",
   "execution_count": null,
   "id": "26095d3e",
   "metadata": {},
   "outputs": [],
   "source": [
    "bag = BaggingClassifier()\n",
    "bag.fit(x_train_new,y_train)"
   ]
  },
  {
   "cell_type": "markdown",
   "id": "e4d53764",
   "metadata": {},
   "source": [
    "## 4)Rndom Forest"
   ]
  },
  {
   "cell_type": "code",
   "execution_count": null,
   "id": "90838cc4",
   "metadata": {},
   "outputs": [],
   "source": [
    "rf = RandomForestClassifier(n_estimators=100, max_depth=5, random_state=0)\n",
    "rf.fit(x_train_new,y_train)"
   ]
  },
  {
   "cell_type": "markdown",
   "id": "64de80fa",
   "metadata": {},
   "source": [
    "## 5)KNN"
   ]
  },
  {
   "cell_type": "code",
   "execution_count": null,
   "id": "7677a5ab",
   "metadata": {},
   "outputs": [],
   "source": [
    "knn = KNeighborsClassifier(n_neighbors = 5)\n",
    "knn.fit(x_train_new,y_train)"
   ]
  },
  {
   "cell_type": "markdown",
   "id": "75c5afb1",
   "metadata": {},
   "source": [
    "## 6)SVM"
   ]
  },
  {
   "cell_type": "code",
   "execution_count": null,
   "id": "6bd577a3",
   "metadata": {},
   "outputs": [],
   "source": [
    "SVM = svm.LinearSVC()\n",
    "SVM.fit(x_train_new,y_train)"
   ]
  },
  {
   "cell_type": "markdown",
   "id": "f3aa2563",
   "metadata": {},
   "source": [
    "## 7)Gradient Boosting"
   ]
  },
  {
   "cell_type": "code",
   "execution_count": null,
   "id": "ab4bd2ae",
   "metadata": {},
   "outputs": [],
   "source": [
    "gradrg=GradientBoostingClassifier()\n",
    "gradrg.fit(x_train_new,y_train)"
   ]
  },
  {
   "cell_type": "markdown",
   "id": "aceb0647",
   "metadata": {},
   "source": [
    "## 8)LDA"
   ]
  },
  {
   "cell_type": "code",
   "execution_count": null,
   "id": "5cfe8869",
   "metadata": {},
   "outputs": [],
   "source": [
    "lda=LinearDiscriminantAnalysis()\n",
    "lda.fit(x_train_new,y_train)"
   ]
  },
  {
   "cell_type": "code",
   "execution_count": null,
   "id": "dacdc254",
   "metadata": {},
   "outputs": [],
   "source": []
  },
  {
   "cell_type": "code",
   "execution_count": null,
   "id": "243f5646",
   "metadata": {},
   "outputs": [],
   "source": [
    "def get_performances(actual_Y, pred_Y):\n",
    "    cm = confusion_matrix(actual_Y, pred_Y.round())\n",
    "    total = sum(sum(cm))\n",
    "    accuracy = (cm[0,0]+cm[1,1])/total\n",
    "    sensitivity = cm[0,0]/(cm[0,0]+cm[0,1])\n",
    "    specificity = cm[1,1]/(cm[1,0]+cm[1,1])\n",
    "    return accuracy, sensitivity, specificity"
   ]
  },
  {
   "cell_type": "code",
   "execution_count": null,
   "id": "3edd4f7e",
   "metadata": {},
   "outputs": [],
   "source": [
    "pred_Y_lr = lr.predict(x_test_new) # predicts the Y given the fitted model Logistic Regression\n",
    "pred_Y_rr = rr.predict(x_test_new) # predicts the Y given the fitted model Ridge Regression\n",
    "pred_Y_bag = bag.predict(x_test_new) # predicts the Y given the fitted model Bagging\n",
    "pred_Y_rf = rf.predict(x_test_new) # predicts the Y given the fitted model Random Forest\n",
    "pred_Y_knn = knn.predict(x_test_new) # predicts the Y given the fitted model KNN\n",
    "pred_Y_svm = SVM.predict(x_test_new) # predicts the Y given the fitted model Support Vector Machines\n",
    "pred_Y_gradrg = gradrg.predict(x_test_new) # predicts the Y given the fitted model Gradient Boosting\n",
    "pred_Y_lda = lda.predict(x_test_new) # predicts the Y given the fitted model LDA"
   ]
  },
  {
   "cell_type": "code",
   "execution_count": null,
   "id": "5611fd84",
   "metadata": {},
   "outputs": [],
   "source": [
    "# accuracy, sensitivity, and specificity for model Logistic Regression\n",
    "accuracy_lr, sensitivity_lr, specificity_lr = get_performances(y_test, pred_Y_lr)\n",
    "\n",
    "# accuracy, sensitivity, and specificity for model Random Ridge Regression\n",
    "accuracy_rr, sensitivity_rr, specificity_rr = get_performances(y_test, pred_Y_rr)\n",
    "\n",
    "# accuracy, sensitivity, and specificity for model Random Bagging\n",
    "accuracy_bag, sensitivity_bag, specificity_bag = get_performances(y_test, pred_Y_bag)\n",
    "\n",
    "# accuracy, sensitivity, and specificity for model Random Forest\n",
    "accuracy_rf, sensitivity_rf, specificity_rf = get_performances(y_test, pred_Y_rf)\n",
    "\n",
    "# accuracy, sensitivity, and specificity for model KNN\n",
    "accuracy_knn, sensitivity_knn, specificity_knn = get_performances(y_test, pred_Y_knn)\n",
    "\n",
    "# accuracy, sensitivity, and specificity for model Support Vector Machines\n",
    "accuracy_svm, sensitivity_svm, specificity_svm = get_performances(y_test, pred_Y_svm)\n",
    "\n",
    "# accuracy, sensitivity, and specificity for model Gradient Boosting\n",
    "accuracy_gradrg, sensitivity_gradrg, specificity_gradrg = get_performances(y_test, pred_Y_gradrg)\n",
    "\n",
    "# accuracy, sensitivity, and specificity for model LDA\n",
    "accuracy_lda, sensitivity_lda, specificity_lda = get_performances(y_test, pred_Y_lda)\n"
   ]
  },
  {
   "cell_type": "code",
   "execution_count": null,
   "id": "405f68b9",
   "metadata": {},
   "outputs": [],
   "source": [
    "perf = pd.DataFrame([accuracy_lr,accuracy_rr,accuracy_bag,accuracy_rf,accuracy_knn,accuracy_svm,accuracy_gradrg,accuracy_lda], \n",
    "                    columns = ['Accuracy'], \n",
    "                    index = ['Logistic Regression','Ridge Regression','Bagging','Random Forest','KNN','Support Vector Machine','Gradient Boosting','LDA'])\n",
    "\n",
    "perf['Sensitivity'] = np.asarray([sensitivity_lr,sensitivity_rr,sensitivity_bag,sensitivity_rf,\n",
    "                                  sensitivity_knn,sensitivity_svm,sensitivity_gradrg,sensitivity_lda])\n",
    "\n",
    "perf['Specificity'] = np.asarray([specificity_lr,specificity_rr,specificity_bag,specificity_rf,\n",
    "                                  specificity_knn,specificity_svm,specificity_gradrg,specificity_lda])\n",
    "perf"
   ]
  },
  {
   "cell_type": "markdown",
   "id": "4fa7c29b",
   "metadata": {},
   "source": [
    "# -----------------------------------------------------------------------------------------------------------"
   ]
  },
  {
   "cell_type": "markdown",
   "id": "af4791a2",
   "metadata": {},
   "source": [
    "# Random Under Sampling"
   ]
  },
  {
   "cell_type": "code",
   "execution_count": 70,
   "id": "f5760733",
   "metadata": {},
   "outputs": [],
   "source": [
    "# instantiating the random undersampler\n",
    "rus = RandomUnderSampler() \n",
    "# resampling X, y\n",
    "x_rus, y_rus = rus.fit_resample(x_train,y_train)"
   ]
  },
  {
   "cell_type": "markdown",
   "id": "e08ca3b4",
   "metadata": {},
   "source": [
    "## 1)Logistic"
   ]
  },
  {
   "cell_type": "code",
   "execution_count": null,
   "id": "64237779",
   "metadata": {},
   "outputs": [],
   "source": [
    "# define models and parameters\n",
    "model = LogisticRegression()\n",
    "solvers = ['newton-cg', 'lbfgs', 'liblinear']\n",
    "penalty = ['l2']\n",
    "c_values = [100, 10, 1.0, 0.1, 0.01]\n",
    "# define grid search\n",
    "grid = dict(solver=solvers,penalty=penalty,C=c_values)\n",
    "CV = RepeatedStratifiedKFold(n_splits=10, n_repeats=3, random_state=1)\n",
    "grid_search = GridSearchCV(estimator=model, param_grid=grid, n_jobs=-1, cv=CV, scoring='accuracy',error_score=0)\n",
    "grid_result = grid_search.fit(x_rus, y_rus)\n",
    "# summarize results\n",
    "print(\"Best: %f using %s\" % (grid_result.best_score_, grid_result.best_params_))\n",
    "means = grid_result.cv_results_['mean_test_score']\n",
    "stds = grid_result.cv_results_['std_test_score']\n",
    "params = grid_result.cv_results_['params']\n",
    "for mean, stdev, param in zip(means, stds, params):\n",
    "    print(\"%f (%f) with: %r\" % (mean, stdev, param))"
   ]
  },
  {
   "cell_type": "code",
   "execution_count": null,
   "id": "94379bb7",
   "metadata": {},
   "outputs": [],
   "source": [
    "lr = LogisticRegression(C=0.01,penalty='l2',solver='liblinear',random_state=1)\n",
    "lr.fit(x_rus,y_rus)"
   ]
  },
  {
   "cell_type": "markdown",
   "id": "e9c36662",
   "metadata": {},
   "source": [
    "## 2)Ridge"
   ]
  },
  {
   "cell_type": "code",
   "execution_count": null,
   "id": "19d8eace",
   "metadata": {},
   "outputs": [],
   "source": [
    "params = {\"alpha\":[0.1,0.2,0.3,0.4,0.5,0.6,0.7,0.8,0.9,1]}\n",
    "model = RidgeClassifier()\n",
    "CV = KFold(n_splits=10,shuffle=True)"
   ]
  },
  {
   "cell_type": "code",
   "execution_count": null,
   "id": "af527a7e",
   "metadata": {},
   "outputs": [],
   "source": [
    "gsearch = GridSearchCV(model, params,cv=CV)"
   ]
  },
  {
   "cell_type": "code",
   "execution_count": null,
   "id": "6210c7cd",
   "metadata": {},
   "outputs": [],
   "source": [
    "results = gsearch.fit(x_rus,y_rus)"
   ]
  },
  {
   "cell_type": "code",
   "execution_count": null,
   "id": "4de45f57",
   "metadata": {},
   "outputs": [],
   "source": [
    "results.best_params_"
   ]
  },
  {
   "cell_type": "code",
   "execution_count": null,
   "id": "ee25b7ce",
   "metadata": {},
   "outputs": [],
   "source": [
    "rr = RidgeClassifier(alpha=0.7,random_state=1)\n",
    "rr.fit(x_rus, y_rus)"
   ]
  },
  {
   "cell_type": "markdown",
   "id": "9b1a0ec5",
   "metadata": {},
   "source": [
    "## 3)Bagging"
   ]
  },
  {
   "cell_type": "code",
   "execution_count": null,
   "id": "80b7b6e8",
   "metadata": {},
   "outputs": [],
   "source": [
    "# define models and parameters\n",
    "model = BaggingClassifier()\n",
    "n_estimators = [10, 100, 1000]\n",
    "# define grid search\n",
    "grid = dict(n_estimators=n_estimators)\n",
    "CV = RepeatedStratifiedKFold(n_splits=10, n_repeats=3, random_state=1)\n",
    "grid_search = GridSearchCV(estimator=model, param_grid=grid, n_jobs=-1, cv=CV, scoring='accuracy',error_score=0)\n",
    "grid_result = grid_search.fit(x_rus,y_rus)\n",
    "# summarize results\n",
    "print(\"Best: %f using %s\" % (grid_result.best_score_, grid_result.best_params_))\n",
    "means = grid_result.cv_results_['mean_test_score']\n",
    "stds = grid_result.cv_results_['std_test_score']\n",
    "params = grid_result.cv_results_['params']\n",
    "for mean, stdev, param in zip(means, stds, params):\n",
    "    print(\"%f (%f) with: %r\" % (mean, stdev, param))"
   ]
  },
  {
   "cell_type": "code",
   "execution_count": null,
   "id": "834c2f3a",
   "metadata": {},
   "outputs": [],
   "source": [
    "bag = BaggingClassifier(n_estimators = 1000,random_state=1)\n",
    "bag.fit(x_rus, y_rus)"
   ]
  },
  {
   "cell_type": "markdown",
   "id": "0a4a771d",
   "metadata": {},
   "source": [
    "## 4)Random Forest"
   ]
  },
  {
   "cell_type": "code",
   "execution_count": null,
   "id": "980837ab",
   "metadata": {},
   "outputs": [],
   "source": [
    "# define models and parameters\n",
    "model = RandomForestClassifier()\n",
    "n_estimators = [10, 100]\n",
    "max_features = ['sqrt', 'log2']\n",
    "# define grid search\n",
    "grid = dict(n_estimators=n_estimators,max_features=max_features)\n",
    "cv = RepeatedStratifiedKFold(n_splits=10, n_repeats=3, random_state=1)\n",
    "grid_search = GridSearchCV(estimator=model, param_grid=grid, n_jobs=-1, cv=cv, scoring='accuracy',error_score=0)\n",
    "grid_result = grid_search.fit(x_rus, y_rus)\n",
    "# summarize results\n",
    "print(\"Best: %f using %s\" % (grid_result.best_score_, grid_result.best_params_))\n",
    "means = grid_result.cv_results_['mean_test_score']\n",
    "stds = grid_result.cv_results_['std_test_score']\n",
    "params = grid_result.cv_results_['params']\n",
    "for mean, stdev, param in zip(means, stds, params):\n",
    "    print(\"%f (%f) with: %r\" % (mean, stdev, param))"
   ]
  },
  {
   "cell_type": "code",
   "execution_count": null,
   "id": "751f8156",
   "metadata": {},
   "outputs": [],
   "source": [
    "rf = RandomForestClassifier(n_estimators=100, max_depth=5, max_features = 'log2',random_state=1)\n",
    "rf.fit(x_rus, y_rus)"
   ]
  },
  {
   "cell_type": "code",
   "execution_count": null,
   "id": "1f618d62",
   "metadata": {},
   "outputs": [],
   "source": [
    "pred_Y_rf = rf.predict(x_test_new)"
   ]
  },
  {
   "cell_type": "code",
   "execution_count": null,
   "id": "29dd1b30",
   "metadata": {},
   "outputs": [],
   "source": [
    "from sklearn.metrics import roc_curve\n",
    "from sklearn.metrics import auc\n",
    "fpr, tpr, thresholds = roc_curve(y_test, pred_Y_rf)\n",
    "a=auc(fpr,tpr)\n",
    "print(\"Area under the curve:\",a)"
   ]
  },
  {
   "cell_type": "code",
   "execution_count": null,
   "id": "ff83d3d9",
   "metadata": {},
   "outputs": [],
   "source": [
    "plt.figure()\n",
    "lw = 2\n",
    "plt.plot(fpr, tpr, color='darkorange',\n",
    "         lw=lw, label='ROC curve (area = %0.2f)' % a)\n",
    "plt.plot([0, 1], [0, 1], color='navy', lw=lw, linestyle='--')\n",
    "plt.xlim([0.0, 1.0])\n",
    "plt.ylim([0.0, 1.05])\n",
    "plt.xlabel('False Positive Rate')\n",
    "plt.ylabel('True Positive Rate')\n",
    "plt.title('Receiver operating characteristic example')\n",
    "plt.legend(loc=\"lower right\")\n",
    "plt.show()"
   ]
  },
  {
   "cell_type": "code",
   "execution_count": null,
   "id": "594c0701",
   "metadata": {},
   "outputs": [],
   "source": [
    "confusion_matrixrf = confusion_matrix(y_test, pred_Y_rf)\n",
    "print(confusion_matrixrf)"
   ]
  },
  {
   "cell_type": "markdown",
   "id": "7808d1be",
   "metadata": {},
   "source": [
    "## 5)KNN"
   ]
  },
  {
   "cell_type": "code",
   "execution_count": null,
   "id": "35b93a36",
   "metadata": {},
   "outputs": [],
   "source": [
    "# define models and parameters\n",
    "model = KNeighborsClassifier()\n",
    "n_neighbors = range(5)\n",
    "weights = ['uniform', 'distance']\n",
    "metric = ['euclidean', 'manhattan', 'minkowski']\n",
    "# define grid search\n",
    "grid = dict(n_neighbors=n_neighbors,weights=weights,metric=metric)\n",
    "CV = RepeatedStratifiedKFold(n_splits=10, n_repeats=3, random_state=1)\n",
    "grid_search = GridSearchCV(estimator=model, param_grid=grid, n_jobs=-1, cv=CV, scoring='accuracy',error_score=0)\n",
    "grid_result = grid_search.fit(x_rus, y_rus)\n",
    "# summarize results\n",
    "print(\"Best: %f using %s\" % (grid_result.best_score_, grid_result.best_params_))\n",
    "means = grid_result.cv_results_['mean_test_score']\n",
    "stds = grid_result.cv_results_['std_test_score']\n",
    "params = grid_result.cv_results_['params']\n",
    "for mean, stdev, param in zip(means, stds, params):\n",
    "    print(\"%f (%f) with: %r\" % (mean, stdev, param))"
   ]
  },
  {
   "cell_type": "code",
   "execution_count": null,
   "id": "22a69dfa",
   "metadata": {},
   "outputs": [],
   "source": [
    "knn = KNeighborsClassifier(metric = 'euclidean', n_neighbors = 3, weights = 'uniform')\n",
    "knn.fit(x_rus, y_rus)"
   ]
  },
  {
   "cell_type": "code",
   "execution_count": null,
   "id": "b490760e",
   "metadata": {},
   "outputs": [],
   "source": [
    "pred_Y_knn = knn.predict(x_test_new)"
   ]
  },
  {
   "cell_type": "code",
   "execution_count": null,
   "id": "0f16771e",
   "metadata": {},
   "outputs": [],
   "source": [
    "fpr, tpr, thresholds = roc_curve(y_test, pred_Y_knn)\n",
    "a=auc(fpr,tpr)\n",
    "print(\"Area under the curve:\",a)"
   ]
  },
  {
   "cell_type": "code",
   "execution_count": null,
   "id": "4e816f70",
   "metadata": {},
   "outputs": [],
   "source": [
    "plt.figure()\n",
    "lw = 2\n",
    "plt.plot(fpr, tpr, color='darkorange',\n",
    "         lw=lw, label='ROC curve (area = %0.2f)' % a)\n",
    "plt.plot([0, 1], [0, 1], color='navy', lw=lw, linestyle='--')\n",
    "plt.xlim([0.0, 1.0])\n",
    "plt.ylim([0.0, 1.05])\n",
    "plt.xlabel('False Positive Rate')\n",
    "plt.ylabel('True Positive Rate')\n",
    "plt.title('Receiver operating characteristic example')\n",
    "plt.legend(loc=\"lower right\")\n",
    "plt.show()"
   ]
  },
  {
   "cell_type": "code",
   "execution_count": null,
   "id": "d61ff5c2",
   "metadata": {},
   "outputs": [],
   "source": [
    "confusion_matrixknn = confusion_matrix(y_test, pred_Y_knn)\n",
    "print(confusion_matrixknn)"
   ]
  },
  {
   "cell_type": "markdown",
   "id": "f0c24281",
   "metadata": {},
   "source": [
    "## 6)SVM"
   ]
  },
  {
   "cell_type": "code",
   "execution_count": null,
   "id": "2cf510d2",
   "metadata": {},
   "outputs": [],
   "source": [
    "model = SVC()\n",
    "kernel = ['poly', 'rbf', 'sigmoid']\n",
    "C = [50, 10, 1.0]\n",
    "gamma = ['scale']\n",
    "# define grid search\n",
    "grid = dict(kernel=kernel,C=C,gamma=gamma)\n",
    "cv = RepeatedStratifiedKFold(n_splits=10, n_repeats=3, random_state=1)\n",
    "grid_search = GridSearchCV(estimator=model, param_grid=grid, n_jobs=-1, cv=cv, scoring='accuracy',error_score=0)\n",
    "grid_result = grid_search.fit(x_rus, y_rus)\n",
    "# summarize results\n",
    "print(\"Best: %f using %s\" % (grid_result.best_score_, grid_result.best_params_))\n",
    "means = grid_result.cv_results_['mean_test_score']\n",
    "stds = grid_result.cv_results_['std_test_score']\n",
    "params = grid_result.cv_results_['params']\n",
    "for mean, stdev, param in zip(means, stds, params):\n",
    "    print(\"%f (%f) with: %r\" % (mean, stdev, param))"
   ]
  },
  {
   "cell_type": "code",
   "execution_count": null,
   "id": "2734709e",
   "metadata": {},
   "outputs": [],
   "source": [
    "SVM = SVC(C= 1.0, gamma='scale', kernel= 'rbf',random_state=1)\n",
    "SVM.fit(x_rus, y_rus)"
   ]
  },
  {
   "cell_type": "code",
   "execution_count": null,
   "id": "dd5300f7",
   "metadata": {},
   "outputs": [],
   "source": [
    "import joblib"
   ]
  },
  {
   "cell_type": "code",
   "execution_count": null,
   "id": "5952c20b",
   "metadata": {},
   "outputs": [],
   "source": [
    "filename = \"C:\\\\Users\\\\User\\\\Desktop\\\\Data Analysis 1\\\\finalized_model.sav\""
   ]
  },
  {
   "cell_type": "code",
   "execution_count": null,
   "id": "ece83c68",
   "metadata": {},
   "outputs": [],
   "source": [
    "joblib.dump(SVM, filename)"
   ]
  },
  {
   "cell_type": "markdown",
   "id": "dff3feb0",
   "metadata": {},
   "source": [
    "## 7)GradientBoosting"
   ]
  },
  {
   "cell_type": "code",
   "execution_count": null,
   "id": "475ab074",
   "metadata": {},
   "outputs": [],
   "source": [
    "# define models and parameters\n",
    "model = GradientBoostingClassifier()\n",
    "n_estimators = [10, 100]\n",
    "learning_rate = [0.01, 0.1]\n",
    "subsample = [0.5, 1.0]\n",
    "max_depth = [3, 7]\n",
    "# define grid search\n",
    "grid = dict(learning_rate=learning_rate, n_estimators=n_estimators, subsample=subsample, max_depth=max_depth)\n",
    "CV = RepeatedStratifiedKFold(n_splits=10, n_repeats=3, random_state=1)\n",
    "grid_search = GridSearchCV(estimator=model, param_grid=grid, n_jobs=-1, cv=CV, scoring='accuracy',error_score=0)\n",
    "grid_result = grid_search.fit(x_rus, y_rus)\n",
    "# summarize results\n",
    "print(\"Best: %f using %s\" % (grid_result.best_score_, grid_result.best_params_))\n",
    "means = grid_result.cv_results_['mean_test_score']\n",
    "stds = grid_result.cv_results_['std_test_score']\n",
    "params = grid_result.cv_results_['params']\n",
    "for mean, stdev, param in zip(means, stds, params):\n",
    "    print(\"%f (%f) with: %r\" % (mean, stdev, param))"
   ]
  },
  {
   "cell_type": "code",
   "execution_count": 71,
   "id": "46fe9dce",
   "metadata": {},
   "outputs": [
    {
     "data": {
      "text/plain": [
       "GradientBoostingClassifier(learning_rate=0.01, random_state=1, subsample=0.5)"
      ]
     },
     "execution_count": 71,
     "metadata": {},
     "output_type": "execute_result"
    }
   ],
   "source": [
    "gradrg=GradientBoostingClassifier(learning_rate = 0.01, max_depth = 3, n_estimators = 100, subsample = 0.5,random_state=1)\n",
    "gradrg.fit(x_rus, y_rus)"
   ]
  },
  {
   "cell_type": "markdown",
   "id": "17c662b2",
   "metadata": {},
   "source": [
    "### saving the model"
   ]
  },
  {
   "cell_type": "code",
   "execution_count": 72,
   "id": "68adcec8",
   "metadata": {},
   "outputs": [],
   "source": [
    "import pickle"
   ]
  },
  {
   "cell_type": "code",
   "execution_count": 73,
   "id": "29f998ef",
   "metadata": {},
   "outputs": [],
   "source": [
    "filename = \"C:\\\\Users\\\\User\\\\Desktop\\\\Final Project\\\\final_model.pkl\"\n",
    "pickle.dump(gradrg, open(filename, 'wb'))"
   ]
  },
  {
   "cell_type": "markdown",
   "id": "daf87a91",
   "metadata": {},
   "source": [
    "### loading the model"
   ]
  },
  {
   "cell_type": "code",
   "execution_count": 74,
   "id": "1415731d",
   "metadata": {},
   "outputs": [],
   "source": [
    "loaded_model=pickle.load(open(filename, 'rb'))"
   ]
  },
  {
   "cell_type": "code",
   "execution_count": 75,
   "id": "5b8580c5",
   "metadata": {},
   "outputs": [
    {
     "data": {
      "text/plain": [
       "array([1, 0, 0, ..., 1, 1, 0], dtype=int64)"
      ]
     },
     "execution_count": 75,
     "metadata": {},
     "output_type": "execute_result"
    }
   ],
   "source": [
    "loaded_model.predict(x_test)"
   ]
  },
  {
   "cell_type": "code",
   "execution_count": 76,
   "id": "7befa57d",
   "metadata": {},
   "outputs": [
    {
     "data": {
      "text/plain": [
       "array([[0.32955841, 0.67044159],\n",
       "       [0.80250515, 0.19749485],\n",
       "       [0.52667309, 0.47332691],\n",
       "       ...,\n",
       "       [0.49991164, 0.50008836],\n",
       "       [0.29519085, 0.70480915],\n",
       "       [0.77145057, 0.22854943]])"
      ]
     },
     "execution_count": 76,
     "metadata": {},
     "output_type": "execute_result"
    }
   ],
   "source": [
    "loaded_model.predict_proba(x_test)"
   ]
  },
  {
   "cell_type": "code",
   "execution_count": 77,
   "id": "490209c1",
   "metadata": {},
   "outputs": [
    {
     "data": {
      "text/plain": [
       "array([0.67044159, 0.19749485, 0.47332691, ..., 0.50008836, 0.70480915,\n",
       "       0.22854943])"
      ]
     },
     "execution_count": 77,
     "metadata": {},
     "output_type": "execute_result"
    }
   ],
   "source": [
    "loaded_model.predict_proba(x_test)[:,1]"
   ]
  },
  {
   "cell_type": "markdown",
   "id": "153743ff",
   "metadata": {},
   "source": [
    "### testing"
   ]
  },
  {
   "cell_type": "code",
   "execution_count": 80,
   "id": "10d8899c",
   "metadata": {},
   "outputs": [],
   "source": [
    "testing_values=[[1,82,0,1,1,2,1,144.9,26.4,3]]"
   ]
  },
  {
   "cell_type": "code",
   "execution_count": 81,
   "id": "d15ab4ea",
   "metadata": {},
   "outputs": [
    {
     "data": {
      "text/plain": [
       "array([0.67044159])"
      ]
     },
     "execution_count": 81,
     "metadata": {},
     "output_type": "execute_result"
    }
   ],
   "source": [
    "loaded_model.predict_proba(testing_values)[:,1]"
   ]
  },
  {
   "cell_type": "code",
   "execution_count": 82,
   "id": "b98e8e7a",
   "metadata": {},
   "outputs": [],
   "source": [
    "testing_values=[[1,34,0,0,1,2,0,83.53,48.5,1]]"
   ]
  },
  {
   "cell_type": "code",
   "execution_count": 83,
   "id": "2344fa98",
   "metadata": {},
   "outputs": [
    {
     "data": {
      "text/plain": [
       "array([0.31271592])"
      ]
     },
     "execution_count": 83,
     "metadata": {},
     "output_type": "execute_result"
    }
   ],
   "source": [
    "loaded_model.predict_proba(testing_values)[:,1]"
   ]
  },
  {
   "cell_type": "markdown",
   "id": "1b209b5d",
   "metadata": {},
   "source": [
    "## 8)LDA"
   ]
  },
  {
   "cell_type": "code",
   "execution_count": null,
   "id": "520ccfb4",
   "metadata": {},
   "outputs": [],
   "source": [
    "# define models and parameters\n",
    "model = LinearDiscriminantAnalysis()\n",
    "solver = ['svd', 'lsqr', 'eigen']\n",
    "shrinkage = ['auto','None']\n",
    "# define grid search\n",
    "grid = dict(solver=solver, shrinkage=shrinkage)\n",
    "CV = RepeatedStratifiedKFold(n_splits=10, n_repeats=3, random_state=1)\n",
    "grid_search = GridSearchCV(estimator=model, param_grid=grid, n_jobs=-1, cv=CV, scoring='accuracy',error_score=0)\n",
    "grid_result = grid_search.fit(x_rus, y_rus)\n",
    "# summarize results\n",
    "print(\"Best: %f using %s\" % (grid_result.best_score_, grid_result.best_params_))\n",
    "means = grid_result.cv_results_['mean_test_score']\n",
    "stds = grid_result.cv_results_['std_test_score']\n",
    "params = grid_result.cv_results_['params']\n",
    "for mean, stdev, param in zip(means, stds, params):\n",
    "    print(\"%f (%f) with: %r\" % (mean, stdev, param))"
   ]
  },
  {
   "cell_type": "code",
   "execution_count": null,
   "id": "de84cb38",
   "metadata": {},
   "outputs": [],
   "source": [
    "lda=LinearDiscriminantAnalysis(shrinkage = 'auto', solver = 'lsqr')\n",
    "lda.fit(x_rus,y_rus)"
   ]
  },
  {
   "cell_type": "code",
   "execution_count": null,
   "id": "585d6f9c",
   "metadata": {},
   "outputs": [],
   "source": []
  },
  {
   "cell_type": "code",
   "execution_count": null,
   "id": "b50350db",
   "metadata": {},
   "outputs": [],
   "source": [
    "def get_performances(actual_Y, pred_Y):\n",
    "    cm = confusion_matrix(actual_Y, pred_Y.round())\n",
    "    total = sum(sum(cm))\n",
    "    accuracy = (cm[0,0]+cm[1,1])/total\n",
    "    sensitivity = cm[0,0]/(cm[0,0]+cm[0,1])\n",
    "    specificity = cm[1,1]/(cm[1,0]+cm[1,1])\n",
    "    return accuracy, sensitivity, specificity"
   ]
  },
  {
   "cell_type": "code",
   "execution_count": null,
   "id": "8c4cfa72",
   "metadata": {},
   "outputs": [],
   "source": [
    "pred_Y_lr = lr.predict(x_test_new) # predicts the Y given the fitted model Logistic Regression\n",
    "pred_Y_rr = rr.predict(x_test_new) # predicts the Y given the fitted model Ridge Regression\n",
    "pred_Y_bag = bag.predict(x_test_new) # predicts the Y given the fitted model Bagging\n",
    "pred_Y_rf = rf.predict(x_test_new) # predicts the Y given the fitted model Random Forest\n",
    "pred_Y_knn = knn.predict(x_test_new) # predicts the Y given the fitted model KNN\n",
    "pred_Y_svm = SVM.predict(x_test_new) # predicts the Y given the fitted model Support Vector Machines\n",
    "pred_Y_gradrg = gradrg.predict(x_test_new) # predicts the Y given the fitted model Gradient Boosting\n",
    "pred_Y_lda = lda.predict(x_test_new) # predicts the Y given the fitted model LDA"
   ]
  },
  {
   "cell_type": "code",
   "execution_count": null,
   "id": "40db99d0",
   "metadata": {},
   "outputs": [],
   "source": [
    "# accuracy, sensitivity, and specificity for model Logistic Regression\n",
    "accuracy_lr, sensitivity_lr, specificity_lr = get_performances(y_test, pred_Y_lr)\n",
    "\n",
    "# accuracy, sensitivity, and specificity for model Random Ridge Regression\n",
    "accuracy_rr, sensitivity_rr, specificity_rr = get_performances(y_test, pred_Y_rr)\n",
    "\n",
    "# accuracy, sensitivity, and specificity for model Random Bagging\n",
    "accuracy_bag, sensitivity_bag, specificity_bag = get_performances(y_test, pred_Y_bag)\n",
    "\n",
    "# accuracy, sensitivity, and specificity for model Random Forest\n",
    "accuracy_rf, sensitivity_rf, specificity_rf = get_performances(y_test, pred_Y_rf)\n",
    "\n",
    "# accuracy, sensitivity, and specificity for model KNN\n",
    "accuracy_knn, sensitivity_knn, specificity_knn = get_performances(y_test, pred_Y_knn)\n",
    "\n",
    "# accuracy, sensitivity, and specificity for model Support Vector Machines\n",
    "accuracy_svm, sensitivity_svm, specificity_svm = get_performances(y_test, pred_Y_svm)\n",
    "\n",
    "# accuracy, sensitivity, and specificity for model Gradient Boosting\n",
    "accuracy_gradrg, sensitivity_gradrg, specificity_gradrg = get_performances(y_test, pred_Y_gradrg)\n",
    "\n",
    "# accuracy, sensitivity, and specificity for model LDA\n",
    "accuracy_lda, sensitivity_lda, specificity_lda = get_performances(y_test, pred_Y_lda)\n"
   ]
  },
  {
   "cell_type": "code",
   "execution_count": null,
   "id": "6145ec78",
   "metadata": {
    "scrolled": true
   },
   "outputs": [],
   "source": [
    "perf = pd.DataFrame([accuracy_lr,accuracy_rr,accuracy_bag,accuracy_rf,accuracy_knn,accuracy_svm,accuracy_gradrg,accuracy_lda], \n",
    "                    columns = ['Accuracy'], \n",
    "                    index = ['Logistic Regression','Ridge Regression','Bagging','Random Forest','KNN','Support Vector Machine','Gradient Boosting','LDA'])\n",
    "\n",
    "perf['Sensitivity'] = np.asarray([sensitivity_lr,sensitivity_rr,sensitivity_bag,sensitivity_rf,\n",
    "                                  sensitivity_knn,sensitivity_svm,sensitivity_gradrg,sensitivity_lda])\n",
    "\n",
    "perf['Specificity'] = np.asarray([specificity_lr,specificity_rr,specificity_bag,specificity_rf,\n",
    "                                  specificity_knn,specificity_svm,specificity_gradrg,specificity_lda])\n",
    "perf"
   ]
  },
  {
   "cell_type": "markdown",
   "id": "83da87bb",
   "metadata": {},
   "source": [
    "# -----------------------------------------------------------------------------------------------------------"
   ]
  },
  {
   "cell_type": "markdown",
   "id": "7aeb8dd1",
   "metadata": {},
   "source": [
    "# SMOTE + Under sampling"
   ]
  },
  {
   "cell_type": "code",
   "execution_count": null,
   "id": "ff6aa8d6",
   "metadata": {},
   "outputs": [],
   "source": [
    "from imblearn.pipeline import Pipeline\n",
    "# define pipeline\n",
    "over = SMOTE(sampling_strategy=0.6, random_state=42)\n",
    "under = RandomUnderSampler(sampling_strategy=0.9, random_state=42)\n",
    "steps = [('o', over), ('u', under)]\n",
    "pipeline = Pipeline(steps=steps)\n",
    "# transform the dataset\n",
    "x_smun, y_smun = pipeline.fit_resample(x_train_new,y_train)"
   ]
  },
  {
   "cell_type": "markdown",
   "id": "2aee2a80",
   "metadata": {},
   "source": [
    "## 1)Logistic"
   ]
  },
  {
   "cell_type": "code",
   "execution_count": null,
   "id": "3556baca",
   "metadata": {},
   "outputs": [],
   "source": [
    "# define models and parameters\n",
    "model = LogisticRegression()\n",
    "solvers = ['newton-cg', 'lbfgs', 'liblinear']\n",
    "penalty = ['l2']\n",
    "c_values = [100, 10, 1.0, 0.1, 0.01]\n",
    "# define grid search\n",
    "grid = dict(solver=solvers,penalty=penalty,C=c_values)\n",
    "CV = RepeatedStratifiedKFold(n_splits=10, n_repeats=3, random_state=1)\n",
    "grid_search = GridSearchCV(estimator=model, param_grid=grid, n_jobs=-1, cv=CV, scoring='accuracy',error_score=0)\n",
    "grid_result = grid_search.fit(x_smun, y_smun)\n",
    "# summarize results\n",
    "print(\"Best: %f using %s\" % (grid_result.best_score_, grid_result.best_params_))\n",
    "means = grid_result.cv_results_['mean_test_score']\n",
    "stds = grid_result.cv_results_['std_test_score']\n",
    "params = grid_result.cv_results_['params']\n",
    "for mean, stdev, param in zip(means, stds, params):\n",
    "    print(\"%f (%f) with: %r\" % (mean, stdev, param))"
   ]
  },
  {
   "cell_type": "code",
   "execution_count": null,
   "id": "440f73c4",
   "metadata": {},
   "outputs": [],
   "source": [
    "lr = LogisticRegression(C=1,penalty='l2',solver='newton-cg')\n",
    "lr.fit(x_smun, y_smun)"
   ]
  },
  {
   "cell_type": "markdown",
   "id": "675a9411",
   "metadata": {},
   "source": [
    "## 2)Ridge"
   ]
  },
  {
   "cell_type": "code",
   "execution_count": null,
   "id": "07251a26",
   "metadata": {},
   "outputs": [],
   "source": [
    "params = {\"alpha\":[0.1,0.2,0.3,0.4,0.5,0.6,0.7,0.8,0.9,1]}\n",
    "model = RidgeClassifier()\n",
    "CV = KFold(n_splits=10,shuffle=True)"
   ]
  },
  {
   "cell_type": "code",
   "execution_count": null,
   "id": "67ef04d1",
   "metadata": {},
   "outputs": [],
   "source": [
    "gsearch = GridSearchCV(model, params,cv=CV)"
   ]
  },
  {
   "cell_type": "code",
   "execution_count": null,
   "id": "b4baf168",
   "metadata": {},
   "outputs": [],
   "source": [
    "results = gsearch.fit(x_smun, y_smun)"
   ]
  },
  {
   "cell_type": "code",
   "execution_count": null,
   "id": "5183586a",
   "metadata": {},
   "outputs": [],
   "source": [
    "results.best_params_"
   ]
  },
  {
   "cell_type": "code",
   "execution_count": null,
   "id": "69ee938a",
   "metadata": {},
   "outputs": [],
   "source": [
    "rr = RidgeClassifier(alpha=0.1)\n",
    "rr.fit(x_smun, y_smun)"
   ]
  },
  {
   "cell_type": "markdown",
   "id": "7d4348af",
   "metadata": {},
   "source": [
    "## 3)Bagging"
   ]
  },
  {
   "cell_type": "code",
   "execution_count": null,
   "id": "455a72ee",
   "metadata": {},
   "outputs": [],
   "source": [
    "# define models and parameters\n",
    "model = BaggingClassifier()\n",
    "n_estimators = [10, 100, 1000]\n",
    "# define grid search\n",
    "grid = dict(n_estimators=n_estimators)\n",
    "CV = RepeatedStratifiedKFold(n_splits=10, n_repeats=3, random_state=1)\n",
    "grid_search = GridSearchCV(estimator=model, param_grid=grid, n_jobs=-1, cv=CV, scoring='accuracy',error_score=0)\n",
    "grid_result = grid_search.fit(x_smun, y_smun)\n",
    "# summarize results\n",
    "print(\"Best: %f using %s\" % (grid_result.best_score_, grid_result.best_params_))\n",
    "means = grid_result.cv_results_['mean_test_score']\n",
    "stds = grid_result.cv_results_['std_test_score']\n",
    "params = grid_result.cv_results_['params']\n",
    "for mean, stdev, param in zip(means, stds, params):\n",
    "    print(\"%f (%f) with: %r\" % (mean, stdev, param))"
   ]
  },
  {
   "cell_type": "code",
   "execution_count": null,
   "id": "69fce157",
   "metadata": {},
   "outputs": [],
   "source": [
    "bag = BaggingClassifier(n_estimators = 1000)\n",
    "bag.fit(x_smun, y_smun)"
   ]
  },
  {
   "cell_type": "markdown",
   "id": "2bdbda6e",
   "metadata": {},
   "source": [
    "## 4)Random Forest"
   ]
  },
  {
   "cell_type": "code",
   "execution_count": null,
   "id": "a426d322",
   "metadata": {},
   "outputs": [],
   "source": [
    "# define models and parameters\n",
    "model = RandomForestClassifier()\n",
    "n_estimators = [10, 100]\n",
    "max_features = ['sqrt', 'log2']\n",
    "# define grid search\n",
    "grid = dict(n_estimators=n_estimators,max_features=max_features)\n",
    "cv = RepeatedStratifiedKFold(n_splits=10, n_repeats=3, random_state=1)\n",
    "grid_search = GridSearchCV(estimator=model, param_grid=grid, n_jobs=-1, cv=cv, scoring='accuracy',error_score=0)\n",
    "grid_result = grid_search.fit(x_smun, y_smun)\n",
    "# summarize results\n",
    "print(\"Best: %f using %s\" % (grid_result.best_score_, grid_result.best_params_))\n",
    "means = grid_result.cv_results_['mean_test_score']\n",
    "stds = grid_result.cv_results_['std_test_score']\n",
    "params = grid_result.cv_results_['params']\n",
    "for mean, stdev, param in zip(means, stds, params):\n",
    "    print(\"%f (%f) with: %r\" % (mean, stdev, param))"
   ]
  },
  {
   "cell_type": "code",
   "execution_count": null,
   "id": "cba8f9e8",
   "metadata": {},
   "outputs": [],
   "source": [
    "rf = RandomForestClassifier(n_estimators=100, max_depth=5, max_features = 'log2')\n",
    "rf.fit(x_smun, y_smun)"
   ]
  },
  {
   "cell_type": "markdown",
   "id": "c4402972",
   "metadata": {},
   "source": [
    "## 5)KNN"
   ]
  },
  {
   "cell_type": "code",
   "execution_count": null,
   "id": "907f9fa2",
   "metadata": {},
   "outputs": [],
   "source": [
    "# define models and parameters\n",
    "model = KNeighborsClassifier()\n",
    "n_neighbors = range(5)\n",
    "weights = ['uniform', 'distance']\n",
    "metric = ['euclidean', 'manhattan', 'minkowski']\n",
    "# define grid search\n",
    "grid = dict(n_neighbors=n_neighbors,weights=weights,metric=metric)\n",
    "CV = RepeatedStratifiedKFold(n_splits=10, n_repeats=3, random_state=1)\n",
    "grid_search = GridSearchCV(estimator=model, param_grid=grid, n_jobs=-1, cv=CV, scoring='accuracy',error_score=0)\n",
    "grid_result = grid_search.fit(x_smun, y_smun)\n",
    "# summarize results\n",
    "print(\"Best: %f using %s\" % (grid_result.best_score_, grid_result.best_params_))\n",
    "means = grid_result.cv_results_['mean_test_score']\n",
    "stds = grid_result.cv_results_['std_test_score']\n",
    "params = grid_result.cv_results_['params']\n",
    "for mean, stdev, param in zip(means, stds, params):\n",
    "    print(\"%f (%f) with: %r\" % (mean, stdev, param))"
   ]
  },
  {
   "cell_type": "code",
   "execution_count": null,
   "id": "29092f6f",
   "metadata": {},
   "outputs": [],
   "source": [
    "knn = KNeighborsClassifier(metric = 'euclidean', n_neighbors = 3, weights = 'distance')\n",
    "knn.fit(x_smun, y_smun)"
   ]
  },
  {
   "cell_type": "markdown",
   "id": "f0a081c9",
   "metadata": {},
   "source": [
    "## 6)SVM"
   ]
  },
  {
   "cell_type": "code",
   "execution_count": null,
   "id": "577ef2e3",
   "metadata": {},
   "outputs": [],
   "source": [
    "model = SVC()\n",
    "kernel = ['poly', 'rbf', 'sigmoid']\n",
    "C = [50, 10, 1.0]\n",
    "gamma = ['scale']\n",
    "# define grid search\n",
    "grid = dict(kernel=kernel,C=C,gamma=gamma)\n",
    "cv = RepeatedStratifiedKFold(n_splits=10, n_repeats=3, random_state=1)\n",
    "grid_search = GridSearchCV(estimator=model, param_grid=grid, n_jobs=-1, cv=cv, scoring='accuracy',error_score=0)\n",
    "grid_result = grid_search.fit(x_smun, y_smun)\n",
    "# summarize results\n",
    "print(\"Best: %f using %s\" % (grid_result.best_score_, grid_result.best_params_))\n",
    "means = grid_result.cv_results_['mean_test_score']\n",
    "stds = grid_result.cv_results_['std_test_score']\n",
    "params = grid_result.cv_results_['params']\n",
    "for mean, stdev, param in zip(means, stds, params):\n",
    "    print(\"%f (%f) with: %r\" % (mean, stdev, param))"
   ]
  },
  {
   "cell_type": "code",
   "execution_count": null,
   "id": "e21df71b",
   "metadata": {},
   "outputs": [],
   "source": [
    "SVM = SVC(C= 50, gamma='scale', kernel= 'rbf')\n",
    "SVM.fit(x_smun, y_smun)"
   ]
  },
  {
   "cell_type": "markdown",
   "id": "4ba9fee8",
   "metadata": {},
   "source": [
    "## 7)Gradient Boosting"
   ]
  },
  {
   "cell_type": "code",
   "execution_count": null,
   "id": "d992bdf4",
   "metadata": {},
   "outputs": [],
   "source": [
    "# define models and parameters\n",
    "model = GradientBoostingClassifier()\n",
    "n_estimators = [10, 100]\n",
    "learning_rate = [0.01, 0.1]\n",
    "subsample = [0.5, 1.0]\n",
    "max_depth = [3, 7]\n",
    "# define grid search\n",
    "grid = dict(learning_rate=learning_rate, n_estimators=n_estimators, subsample=subsample, max_depth=max_depth)\n",
    "CV = RepeatedStratifiedKFold(n_splits=10, n_repeats=3, random_state=1)\n",
    "grid_search = GridSearchCV(estimator=model, param_grid=grid, n_jobs=-1, cv=CV, scoring='accuracy',error_score=0)\n",
    "grid_result = grid_search.fit(x_smun, y_smun)\n",
    "# summarize results\n",
    "print(\"Best: %f using %s\" % (grid_result.best_score_, grid_result.best_params_))\n",
    "means = grid_result.cv_results_['mean_test_score']\n",
    "stds = grid_result.cv_results_['std_test_score']\n",
    "params = grid_result.cv_results_['params']\n",
    "for mean, stdev, param in zip(means, stds, params):\n",
    "    print(\"%f (%f) with: %r\" % (mean, stdev, param))"
   ]
  },
  {
   "cell_type": "code",
   "execution_count": null,
   "id": "bc495fde",
   "metadata": {},
   "outputs": [],
   "source": [
    "gradrg=GradientBoostingClassifier(learning_rate = 0.1, max_depth = 7, n_estimators = 100, subsample = 0.5)\n",
    "gradrg.fit(x_smun, y_smun)"
   ]
  },
  {
   "cell_type": "markdown",
   "id": "1f196e34",
   "metadata": {},
   "source": [
    "## 8)LDA"
   ]
  },
  {
   "cell_type": "code",
   "execution_count": null,
   "id": "620ed76c",
   "metadata": {},
   "outputs": [],
   "source": [
    "# define models and parameters\n",
    "model = LinearDiscriminantAnalysis()\n",
    "solver = ['svd', 'lsqr', 'eigen']\n",
    "shrinkage = ['auto','None']\n",
    "# define grid search\n",
    "grid = dict(solver=solver, shrinkage=shrinkage)\n",
    "CV = RepeatedStratifiedKFold(n_splits=10, n_repeats=3, random_state=1)\n",
    "grid_search = GridSearchCV(estimator=model, param_grid=grid, n_jobs=-1, cv=CV, scoring='accuracy',error_score=0)\n",
    "grid_result = grid_search.fit(x_smun, y_smun)\n",
    "# summarize results\n",
    "print(\"Best: %f using %s\" % (grid_result.best_score_, grid_result.best_params_))\n",
    "means = grid_result.cv_results_['mean_test_score']\n",
    "stds = grid_result.cv_results_['std_test_score']\n",
    "params = grid_result.cv_results_['params']\n",
    "for mean, stdev, param in zip(means, stds, params):\n",
    "    print(\"%f (%f) with: %r\" % (mean, stdev, param))"
   ]
  },
  {
   "cell_type": "code",
   "execution_count": null,
   "id": "6d60a24b",
   "metadata": {},
   "outputs": [],
   "source": [
    "lda=LinearDiscriminantAnalysis(shrinkage = 'auto', solver = 'lsqr')\n",
    "lda.fit(x_smun, y_smun)"
   ]
  },
  {
   "cell_type": "code",
   "execution_count": null,
   "id": "e355ffe6",
   "metadata": {},
   "outputs": [],
   "source": [
    "def get_performances(actual_Y, pred_Y):\n",
    "    cm = confusion_matrix(actual_Y, pred_Y.round())\n",
    "    total = sum(sum(cm))\n",
    "    accuracy = (cm[0,0]+cm[1,1])/total\n",
    "    sensitivity = cm[0,0]/(cm[0,0]+cm[0,1])\n",
    "    specificity = cm[1,1]/(cm[1,0]+cm[1,1])\n",
    "    return accuracy, sensitivity, specificity"
   ]
  },
  {
   "cell_type": "code",
   "execution_count": null,
   "id": "c430d688",
   "metadata": {},
   "outputs": [],
   "source": [
    "pred_Y_lr = lr.predict(x_test_new) # predicts the Y given the fitted model Logistic Regression\n",
    "pred_Y_rr = rr.predict(x_test_new) # predicts the Y given the fitted model Ridge Regression\n",
    "pred_Y_bag = bag.predict(x_test_new) # predicts the Y given the fitted model Bagging\n",
    "pred_Y_rf = rf.predict(x_test_new) # predicts the Y given the fitted model Random Forest\n",
    "pred_Y_knn = knn.predict(x_test_new) # predicts the Y given the fitted model KNN\n",
    "pred_Y_svm = SVM.predict(x_test_new) # predicts the Y given the fitted model Support Vector Machines\n",
    "pred_Y_gradrg = gradrg.predict(x_test_new) # predicts the Y given the fitted model Gradient Boosting\n",
    "pred_Y_lda = lda.predict(x_test_new) # predicts the Y given the fitted model LDA"
   ]
  },
  {
   "cell_type": "code",
   "execution_count": null,
   "id": "db71de35",
   "metadata": {},
   "outputs": [],
   "source": [
    "# accuracy, sensitivity, and specificity for model Logistic Regression\n",
    "accuracy_lr, sensitivity_lr, specificity_lr = get_performances(y_test, pred_Y_lr)\n",
    "\n",
    "# accuracy, sensitivity, and specificity for model Random Ridge Regression\n",
    "accuracy_rr, sensitivity_rr, specificity_rr = get_performances(y_test, pred_Y_rr)\n",
    "\n",
    "# accuracy, sensitivity, and specificity for model Random Bagging\n",
    "accuracy_bag, sensitivity_bag, specificity_bag = get_performances(y_test, pred_Y_bag)\n",
    "\n",
    "# accuracy, sensitivity, and specificity for model Random Forest\n",
    "accuracy_rf, sensitivity_rf, specificity_rf = get_performances(y_test, pred_Y_rf)\n",
    "\n",
    "# accuracy, sensitivity, and specificity for model KNN\n",
    "accuracy_knn, sensitivity_knn, specificity_knn = get_performances(y_test, pred_Y_knn)\n",
    "\n",
    "# accuracy, sensitivity, and specificity for model Support Vector Machines\n",
    "accuracy_svm, sensitivity_svm, specificity_svm = get_performances(y_test, pred_Y_svm)\n",
    "\n",
    "# accuracy, sensitivity, and specificity for model Gradient Boosting\n",
    "accuracy_gradrg, sensitivity_gradrg, specificity_gradrg = get_performances(y_test, pred_Y_gradrg)\n",
    "\n",
    "# accuracy, sensitivity, and specificity for model LDA\n",
    "accuracy_lda, sensitivity_lda, specificity_lda = get_performances(y_test, pred_Y_lda)"
   ]
  },
  {
   "cell_type": "code",
   "execution_count": null,
   "id": "4828f13c",
   "metadata": {},
   "outputs": [],
   "source": [
    "perf = pd.DataFrame([accuracy_lr,accuracy_rr,accuracy_bag,accuracy_rf,accuracy_knn,accuracy_svm,accuracy_gradrg,accuracy_lda], \n",
    "                    columns = ['Accuracy'], \n",
    "                    index = ['Logistic Regression','Ridge Regression','Bagging','Random Forest','KNN','Support Vector Machine','Gradient Boosting','LDA'])\n",
    "\n",
    "perf['Sensitivity'] = np.asarray([sensitivity_lr,sensitivity_rr,sensitivity_bag,sensitivity_rf,\n",
    "                                  sensitivity_knn,sensitivity_svm,sensitivity_gradrg,sensitivity_lda])\n",
    "\n",
    "perf['Specificity'] = np.asarray([specificity_lr,specificity_rr,specificity_bag,specificity_rf,\n",
    "                                  specificity_knn,specificity_svm,specificity_gradrg,specificity_lda])\n",
    "perf"
   ]
  },
  {
   "cell_type": "markdown",
   "id": "9f521670",
   "metadata": {},
   "source": [
    "# Random Over Sampling"
   ]
  },
  {
   "cell_type": "code",
   "execution_count": null,
   "id": "23fbe7e8",
   "metadata": {},
   "outputs": [],
   "source": [
    "# instantiating the random over sampler \n",
    "ros = RandomOverSampler()\n",
    "# resampling X, y\n",
    "x_ros, y_ros = ros.fit_resample(x_train_new,y_train)"
   ]
  },
  {
   "cell_type": "markdown",
   "id": "70f1ea65",
   "metadata": {},
   "source": [
    "## 1)Logistic"
   ]
  },
  {
   "cell_type": "code",
   "execution_count": null,
   "id": "254f13dd",
   "metadata": {},
   "outputs": [],
   "source": [
    "# define models and parameters\n",
    "model = LogisticRegression()\n",
    "solvers = ['newton-cg', 'lbfgs', 'liblinear']\n",
    "penalty = ['l2']\n",
    "c_values = [100, 10, 1.0, 0.1, 0.01]\n",
    "# define grid search\n",
    "grid = dict(solver=solvers,penalty=penalty,C=c_values)\n",
    "CV = RepeatedStratifiedKFold(n_splits=10, n_repeats=3, random_state=1)\n",
    "grid_search = GridSearchCV(estimator=model, param_grid=grid, n_jobs=-1, cv=CV, scoring='accuracy',error_score=0)\n",
    "grid_result = grid_search.fit(x_ros, y_ros)\n",
    "# summarize results\n",
    "print(\"Best: %f using %s\" % (grid_result.best_score_, grid_result.best_params_))\n",
    "means = grid_result.cv_results_['mean_test_score']\n",
    "stds = grid_result.cv_results_['std_test_score']\n",
    "params = grid_result.cv_results_['params']\n",
    "for mean, stdev, param in zip(means, stds, params):\n",
    "    print(\"%f (%f) with: %r\" % (mean, stdev, param))"
   ]
  },
  {
   "cell_type": "code",
   "execution_count": null,
   "id": "361ace5d",
   "metadata": {},
   "outputs": [],
   "source": [
    "lr = LogisticRegression(C=0.01,penalty='l2',solver='liblinear')\n",
    "lr.fit(x_smun, y_smun)"
   ]
  },
  {
   "cell_type": "markdown",
   "id": "8f4938cd",
   "metadata": {},
   "source": [
    "## 2)Ridge"
   ]
  },
  {
   "cell_type": "code",
   "execution_count": null,
   "id": "78cc7e7d",
   "metadata": {},
   "outputs": [],
   "source": [
    "params = {\"alpha\":[0.1,0.2,0.3,0.4,0.5,0.6,0.7,0.8,0.9,1]}\n",
    "model = RidgeClassifier()\n",
    "CV = KFold(n_splits=10,shuffle=True)"
   ]
  },
  {
   "cell_type": "code",
   "execution_count": null,
   "id": "c116b148",
   "metadata": {},
   "outputs": [],
   "source": [
    "gsearch = GridSearchCV(model, params,cv=CV)"
   ]
  },
  {
   "cell_type": "code",
   "execution_count": null,
   "id": "a24f78b3",
   "metadata": {},
   "outputs": [],
   "source": [
    "results = gsearch.fit(x_ros, y_ros)"
   ]
  },
  {
   "cell_type": "code",
   "execution_count": null,
   "id": "17db8a75",
   "metadata": {},
   "outputs": [],
   "source": [
    "results.best_params_"
   ]
  },
  {
   "cell_type": "code",
   "execution_count": null,
   "id": "49590526",
   "metadata": {},
   "outputs": [],
   "source": [
    "rr = RidgeClassifier(alpha=0.1)\n",
    "rr.fit(x_ros, y_ros)"
   ]
  },
  {
   "cell_type": "markdown",
   "id": "95a99475",
   "metadata": {},
   "source": [
    "## 3)Bagging"
   ]
  },
  {
   "cell_type": "code",
   "execution_count": null,
   "id": "9be34ab5",
   "metadata": {},
   "outputs": [],
   "source": [
    "# define models and parameters\n",
    "model = BaggingClassifier()\n",
    "n_estimators = [10, 100, 1000]\n",
    "# define grid search\n",
    "grid = dict(n_estimators=n_estimators)\n",
    "CV = RepeatedStratifiedKFold(n_splits=10, n_repeats=3, random_state=1)\n",
    "grid_search = GridSearchCV(estimator=model, param_grid=grid, n_jobs=-1, cv=CV, scoring='accuracy',error_score=0)\n",
    "grid_result = grid_search.fit(x_ros, y_ros)\n",
    "# summarize results\n",
    "print(\"Best: %f using %s\" % (grid_result.best_score_, grid_result.best_params_))\n",
    "means = grid_result.cv_results_['mean_test_score']\n",
    "stds = grid_result.cv_results_['std_test_score']\n",
    "params = grid_result.cv_results_['params']\n",
    "for mean, stdev, param in zip(means, stds, params):\n",
    "    print(\"%f (%f) with: %r\" % (mean, stdev, param))"
   ]
  },
  {
   "cell_type": "code",
   "execution_count": null,
   "id": "06994815",
   "metadata": {},
   "outputs": [],
   "source": [
    "bag = BaggingClassifier(n_estimators = 10)\n",
    "bag.fit(x_ros, y_ros)"
   ]
  },
  {
   "cell_type": "markdown",
   "id": "c03ea04d",
   "metadata": {},
   "source": [
    "## 4)Random Forest"
   ]
  },
  {
   "cell_type": "code",
   "execution_count": null,
   "id": "42fe5bef",
   "metadata": {},
   "outputs": [],
   "source": [
    "# define models and parameters\n",
    "model = RandomForestClassifier()\n",
    "n_estimators = [10, 100]\n",
    "max_features = ['sqrt', 'log2']\n",
    "# define grid search\n",
    "grid = dict(n_estimators=n_estimators,max_features=max_features)\n",
    "cv = RepeatedStratifiedKFold(n_splits=10, n_repeats=3, random_state=1)\n",
    "grid_search = GridSearchCV(estimator=model, param_grid=grid, n_jobs=-1, cv=cv, scoring='accuracy',error_score=0)\n",
    "grid_result = grid_search.fit(x_ros, y_ros)\n",
    "# summarize results\n",
    "print(\"Best: %f using %s\" % (grid_result.best_score_, grid_result.best_params_))\n",
    "means = grid_result.cv_results_['mean_test_score']\n",
    "stds = grid_result.cv_results_['std_test_score']\n",
    "params = grid_result.cv_results_['params']\n",
    "for mean, stdev, param in zip(means, stds, params):\n",
    "    print(\"%f (%f) with: %r\" % (mean, stdev, param))"
   ]
  },
  {
   "cell_type": "code",
   "execution_count": null,
   "id": "3806bbf8",
   "metadata": {},
   "outputs": [],
   "source": [
    "rf = RandomForestClassifier(n_estimators=10, max_depth=5, max_features = 'sqrt')\n",
    "rf.fit(x_ros, y_ros)"
   ]
  },
  {
   "cell_type": "markdown",
   "id": "0d0710e6",
   "metadata": {},
   "source": [
    "## 5)KNN"
   ]
  },
  {
   "cell_type": "code",
   "execution_count": null,
   "id": "857c95c1",
   "metadata": {},
   "outputs": [],
   "source": [
    "# define models and parameters\n",
    "model = KNeighborsClassifier()\n",
    "n_neighbors = range(5)\n",
    "weights = ['uniform', 'distance']\n",
    "metric = ['euclidean', 'manhattan', 'minkowski']\n",
    "# define grid search\n",
    "grid = dict(n_neighbors=n_neighbors,weights=weights,metric=metric)\n",
    "CV = RepeatedStratifiedKFold(n_splits=10, n_repeats=3, random_state=1)\n",
    "grid_search = GridSearchCV(estimator=model, param_grid=grid, n_jobs=-1, cv=CV, scoring='accuracy',error_score=0)\n",
    "grid_result = grid_search.fit(x_ros, y_ros)\n",
    "# summarize results\n",
    "print(\"Best: %f using %s\" % (grid_result.best_score_, grid_result.best_params_))\n",
    "means = grid_result.cv_results_['mean_test_score']\n",
    "stds = grid_result.cv_results_['std_test_score']\n",
    "params = grid_result.cv_results_['params']\n",
    "for mean, stdev, param in zip(means, stds, params):\n",
    "    print(\"%f (%f) with: %r\" % (mean, stdev, param))"
   ]
  },
  {
   "cell_type": "code",
   "execution_count": null,
   "id": "6d02dc91",
   "metadata": {},
   "outputs": [],
   "source": [
    "knn = KNeighborsClassifier(metric = 'euclidean', n_neighbors = 3, weights = 'distance')\n",
    "knn.fit(x_ros, y_ros)"
   ]
  },
  {
   "cell_type": "markdown",
   "id": "f5ae7597",
   "metadata": {},
   "source": [
    "## 6)SVM"
   ]
  },
  {
   "cell_type": "code",
   "execution_count": null,
   "id": "223ecc66",
   "metadata": {},
   "outputs": [],
   "source": [
    "model = SVC()\n",
    "kernel = ['poly', 'rbf', 'sigmoid']\n",
    "C = [50, 10, 1.0]\n",
    "gamma = ['scale']\n",
    "# define grid search\n",
    "grid = dict(kernel=kernel,C=C,gamma=gamma)\n",
    "cv = RepeatedStratifiedKFold(n_splits=10, n_repeats=3, random_state=1)\n",
    "grid_search = GridSearchCV(estimator=model, param_grid=grid, n_jobs=-1, cv=cv, scoring='accuracy',error_score=0)\n",
    "grid_result = grid_search.fit(x_ros, y_ros)\n",
    "# summarize results\n",
    "print(\"Best: %f using %s\" % (grid_result.best_score_, grid_result.best_params_))\n",
    "means = grid_result.cv_results_['mean_test_score']\n",
    "stds = grid_result.cv_results_['std_test_score']\n",
    "params = grid_result.cv_results_['params']\n",
    "for mean, stdev, param in zip(means, stds, params):\n",
    "    print(\"%f (%f) with: %r\" % (mean, stdev, param))"
   ]
  },
  {
   "cell_type": "code",
   "execution_count": null,
   "id": "9a9589bd",
   "metadata": {},
   "outputs": [],
   "source": [
    "SVM = SVC(C= 50, gamma='scale', kernel= 'rbf')\n",
    "SVM.fit(x_ros, y_ros)"
   ]
  },
  {
   "cell_type": "markdown",
   "id": "e1fd7932",
   "metadata": {},
   "source": [
    "## 7)Gradient Boosting"
   ]
  },
  {
   "cell_type": "code",
   "execution_count": null,
   "id": "3888a479",
   "metadata": {},
   "outputs": [],
   "source": [
    "# define models and parameters\n",
    "model = GradientBoostingClassifier()\n",
    "n_estimators = [10, 100]\n",
    "learning_rate = [0.01, 0.1]\n",
    "subsample = [0.5, 1.0]\n",
    "max_depth = [3, 7]\n",
    "# define grid search\n",
    "grid = dict(learning_rate=learning_rate, n_estimators=n_estimators, subsample=subsample, max_depth=max_depth)\n",
    "CV = RepeatedStratifiedKFold(n_splits=10, n_repeats=3, random_state=1)\n",
    "grid_search = GridSearchCV(estimator=model, param_grid=grid, n_jobs=-1, cv=CV, scoring='accuracy',error_score=0)\n",
    "grid_result = grid_search.fit(x_ros, y_ros)\n",
    "# summarize results\n",
    "print(\"Best: %f using %s\" % (grid_result.best_score_, grid_result.best_params_))\n",
    "means = grid_result.cv_results_['mean_test_score']\n",
    "stds = grid_result.cv_results_['std_test_score']\n",
    "params = grid_result.cv_results_['params']\n",
    "for mean, stdev, param in zip(means, stds, params):\n",
    "    print(\"%f (%f) with: %r\" % (mean, stdev, param))"
   ]
  },
  {
   "cell_type": "code",
   "execution_count": null,
   "id": "73223ee2",
   "metadata": {},
   "outputs": [],
   "source": [
    "gradrg=GradientBoostingClassifier(learning_rate = 0.1, max_depth = 7, n_estimators = 100, subsample = 0.5)\n",
    "gradrg.fit(x_ros, y_ros)"
   ]
  },
  {
   "cell_type": "markdown",
   "id": "36af1b4d",
   "metadata": {},
   "source": [
    "## 8)LDA"
   ]
  },
  {
   "cell_type": "code",
   "execution_count": null,
   "id": "9340fc38",
   "metadata": {},
   "outputs": [],
   "source": [
    "# define models and parameters\n",
    "model = LinearDiscriminantAnalysis()\n",
    "solver = ['svd', 'lsqr', 'eigen']\n",
    "shrinkage = ['auto','None']\n",
    "# define grid search\n",
    "grid = dict(solver=solver, shrinkage=shrinkage)\n",
    "CV = RepeatedStratifiedKFold(n_splits=10, n_repeats=3, random_state=1)\n",
    "grid_search = GridSearchCV(estimator=model, param_grid=grid, n_jobs=-1, cv=CV, scoring='accuracy',error_score=0)\n",
    "grid_result = grid_search.fit(x_ros, y_ros)\n",
    "# summarize results\n",
    "print(\"Best: %f using %s\" % (grid_result.best_score_, grid_result.best_params_))\n",
    "means = grid_result.cv_results_['mean_test_score']\n",
    "stds = grid_result.cv_results_['std_test_score']\n",
    "params = grid_result.cv_results_['params']\n",
    "for mean, stdev, param in zip(means, stds, params):\n",
    "    print(\"%f (%f) with: %r\" % (mean, stdev, param))"
   ]
  },
  {
   "cell_type": "code",
   "execution_count": null,
   "id": "e2c3a5fa",
   "metadata": {},
   "outputs": [],
   "source": [
    "lda=LinearDiscriminantAnalysis(shrinkage = 'auto', solver = 'lsqr')\n",
    "lda.fit(x_ros, y_ros)"
   ]
  },
  {
   "cell_type": "code",
   "execution_count": null,
   "id": "3eacb2a1",
   "metadata": {},
   "outputs": [],
   "source": [
    "def get_performances(actual_Y, pred_Y):\n",
    "    cm = confusion_matrix(actual_Y, pred_Y.round())\n",
    "    total = sum(sum(cm))\n",
    "    accuracy = (cm[0,0]+cm[1,1])/total\n",
    "    sensitivity = cm[0,0]/(cm[0,0]+cm[0,1])\n",
    "    specificity = cm[1,1]/(cm[1,0]+cm[1,1])\n",
    "    return accuracy, sensitivity, specificity"
   ]
  },
  {
   "cell_type": "code",
   "execution_count": null,
   "id": "5b0107ac",
   "metadata": {},
   "outputs": [],
   "source": [
    "pred_Y_lr = lr.predict(x_test_new) # predicts the Y given the fitted model Logistic Regression\n",
    "pred_Y_rr = rr.predict(x_test_new) # predicts the Y given the fitted model Ridge Regression\n",
    "pred_Y_bag = bag.predict(x_test_new) # predicts the Y given the fitted model Bagging\n",
    "pred_Y_rf = rf.predict(x_test_new) # predicts the Y given the fitted model Random Forest\n",
    "pred_Y_knn = knn.predict(x_test_new) # predicts the Y given the fitted model KNN\n",
    "pred_Y_svm = SVM.predict(x_test_new) # predicts the Y given the fitted model Support Vector Machines\n",
    "pred_Y_gradrg = gradrg.predict(x_test_new) # predicts the Y given the fitted model Gradient Boosting\n",
    "pred_Y_lda = lda.predict(x_test_new) # predicts the Y given the fitted model LDA"
   ]
  },
  {
   "cell_type": "code",
   "execution_count": null,
   "id": "4ea65a06",
   "metadata": {},
   "outputs": [],
   "source": [
    "# accuracy, sensitivity, and specificity for model Logistic Regression\n",
    "accuracy_lr, sensitivity_lr, specificity_lr = get_performances(y_test, pred_Y_lr)\n",
    "\n",
    "# accuracy, sensitivity, and specificity for model Random Ridge Regression\n",
    "accuracy_rr, sensitivity_rr, specificity_rr = get_performances(y_test, pred_Y_rr)\n",
    "\n",
    "# accuracy, sensitivity, and specificity for model Random Bagging\n",
    "accuracy_bag, sensitivity_bag, specificity_bag = get_performances(y_test, pred_Y_bag)\n",
    "\n",
    "# accuracy, sensitivity, and specificity for model Random Forest\n",
    "accuracy_rf, sensitivity_rf, specificity_rf = get_performances(y_test, pred_Y_rf)\n",
    "\n",
    "# accuracy, sensitivity, and specificity for model KNN\n",
    "accuracy_knn, sensitivity_knn, specificity_knn = get_performances(y_test, pred_Y_knn)\n",
    "\n",
    "# accuracy, sensitivity, and specificity for model Support Vector Machines\n",
    "accuracy_svm, sensitivity_svm, specificity_svm = get_performances(y_test, pred_Y_svm)\n",
    "\n",
    "# accuracy, sensitivity, and specificity for model Gradient Boosting\n",
    "accuracy_gradrg, sensitivity_gradrg, specificity_gradrg = get_performances(y_test, pred_Y_gradrg)\n",
    "\n",
    "# accuracy, sensitivity, and specificity for model LDA\n",
    "accuracy_lda, sensitivity_lda, specificity_lda = get_performances(y_test, pred_Y_lda)"
   ]
  },
  {
   "cell_type": "code",
   "execution_count": null,
   "id": "2fa38688",
   "metadata": {},
   "outputs": [],
   "source": [
    "perf = pd.DataFrame([accuracy_lr,accuracy_rr,accuracy_bag,accuracy_rf,accuracy_knn,accuracy_svm,accuracy_gradrg,accuracy_lda], \n",
    "                    columns = ['Accuracy'], \n",
    "                    index = ['Logistic Regression','Ridge Regression','Bagging','Random Forest','KNN','Support Vector Machine','Gradient Boosting','LDA'])\n",
    "\n",
    "perf['Sensitivity'] = np.asarray([sensitivity_lr,sensitivity_rr,sensitivity_bag,sensitivity_rf,\n",
    "                                  sensitivity_knn,sensitivity_svm,sensitivity_gradrg,sensitivity_lda])\n",
    "\n",
    "perf['Specificity'] = np.asarray([specificity_lr,specificity_rr,specificity_bag,specificity_rf,\n",
    "                                  specificity_knn,specificity_svm,specificity_gradrg,specificity_lda])\n",
    "perf"
   ]
  },
  {
   "cell_type": "code",
   "execution_count": null,
   "id": "3bd4e73f",
   "metadata": {},
   "outputs": [],
   "source": []
  },
  {
   "cell_type": "code",
   "execution_count": null,
   "id": "63e705b7",
   "metadata": {},
   "outputs": [],
   "source": []
  }
 ],
 "metadata": {
  "kernelspec": {
   "display_name": "Python 3",
   "language": "python",
   "name": "python3"
  },
  "language_info": {
   "codemirror_mode": {
    "name": "ipython",
    "version": 3
   },
   "file_extension": ".py",
   "mimetype": "text/x-python",
   "name": "python",
   "nbconvert_exporter": "python",
   "pygments_lexer": "ipython3",
   "version": "3.8.8"
  }
 },
 "nbformat": 4,
 "nbformat_minor": 5
}
